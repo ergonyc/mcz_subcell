{
 "cells": [
  {
   "cell_type": "code",
   "execution_count": 10,
   "id": "a5c4c023",
   "metadata": {},
   "outputs": [
    {
     "name": "stdout",
     "output_type": "stream",
     "text": [
      "Collecting aicspylibczi\n",
      "  Downloading aicspylibczi-3.0.5-cp310-cp310-manylinux_2_12_x86_64.manylinux2010_x86_64.whl (861 kB)\n",
      "\u001b[2K     \u001b[90m━━━━━━━━━━━━━━━━━━━━━━━━━━━━━━━━━━━━━━━\u001b[0m \u001b[32m861.2/861.2 kB\u001b[0m \u001b[31m7.3 MB/s\u001b[0m eta \u001b[36m0:00:00\u001b[0ma \u001b[36m0:00:01\u001b[0m\n",
      "\u001b[?25hRequirement already satisfied: numpy>=1.14.1 in /opt/conda/lib/python3.10/site-packages (from aicspylibczi) (1.21.6)\n",
      "Installing collected packages: aicspylibczi\n",
      "Successfully installed aicspylibczi-3.0.5\n"
     ]
    }
   ],
   "source": [
    "#!pip install aicsimageio\n",
    "#!pip install czifile\n",
    "!pip install aicspylibczi"
   ]
  },
  {
   "cell_type": "code",
   "execution_count": 8,
   "id": "90ff1e89",
   "metadata": {},
   "outputs": [
    {
     "ename": "ModuleNotFoundError",
     "evalue": "No module named 'aicsimageio'",
     "output_type": "error",
     "traceback": [
      "\u001b[0;31m---------------------------------------------------------------------------\u001b[0m",
      "\u001b[0;31mModuleNotFoundError\u001b[0m                       Traceback (most recent call last)",
      "\u001b[1;32m/Users/ahenrie/Projects/Imaging/mcz_subcell/src/napari_czi_convert.ipynb Cell 2\u001b[0m in \u001b[0;36m<cell line: 13>\u001b[0;34m()\u001b[0m\n\u001b[1;32m      <a href='vscode-notebook-cell:/Users/ahenrie/Projects/Imaging/mcz_subcell/src/napari_czi_convert.ipynb#ch0000001?line=1'>2</a>\u001b[0m \u001b[39m# import tifffile\u001b[39;00m\n\u001b[1;32m      <a href='vscode-notebook-cell:/Users/ahenrie/Projects/Imaging/mcz_subcell/src/napari_czi_convert.ipynb#ch0000001?line=2'>3</a>\u001b[0m \u001b[39m# from tifffile import imread, imsave\u001b[39;00m\n\u001b[1;32m      <a href='vscode-notebook-cell:/Users/ahenrie/Projects/Imaging/mcz_subcell/src/napari_czi_convert.ipynb#ch0000001?line=3'>4</a>\u001b[0m \n\u001b[0;32m   (...)\u001b[0m\n\u001b[1;32m      <a href='vscode-notebook-cell:/Users/ahenrie/Projects/Imaging/mcz_subcell/src/napari_czi_convert.ipynb#ch0000001?line=6'>7</a>\u001b[0m \u001b[39m# import aicsimageio.readers\u001b[39;00m\n\u001b[1;32m      <a href='vscode-notebook-cell:/Users/ahenrie/Projects/Imaging/mcz_subcell/src/napari_czi_convert.ipynb#ch0000001?line=7'>8</a>\u001b[0m \u001b[39m# import aicspylibczi\u001b[39;00m\n\u001b[1;32m     <a href='vscode-notebook-cell:/Users/ahenrie/Projects/Imaging/mcz_subcell/src/napari_czi_convert.ipynb#ch0000001?line=11'>12</a>\u001b[0m \u001b[39mfrom\u001b[39;00m \u001b[39mpathlib\u001b[39;00m \u001b[39mimport\u001b[39;00m Path\n\u001b[0;32m---> <a href='vscode-notebook-cell:/Users/ahenrie/Projects/Imaging/mcz_subcell/src/napari_czi_convert.ipynb#ch0000001?line=12'>13</a>\u001b[0m \u001b[39mfrom\u001b[39;00m \u001b[39maicsimageio\u001b[39;00m \u001b[39mimport\u001b[39;00m AICSImage, exceptions\n\u001b[1;32m     <a href='vscode-notebook-cell:/Users/ahenrie/Projects/Imaging/mcz_subcell/src/napari_czi_convert.ipynb#ch0000001?line=13'>14</a>\u001b[0m \u001b[39mfrom\u001b[39;00m \u001b[39maicsimageio\u001b[39;00m\u001b[39m.\u001b[39;00m\u001b[39mdimensions\u001b[39;00m \u001b[39mimport\u001b[39;00m DimensionNames\n\u001b[1;32m     <a href='vscode-notebook-cell:/Users/ahenrie/Projects/Imaging/mcz_subcell/src/napari_czi_convert.ipynb#ch0000001?line=15'>16</a>\u001b[0m filename \u001b[39m=\u001b[39m \u001b[39m\"\u001b[39m\u001b[39m/Users/ahenrie/Projects/Imaging/mcz_subcell/data/ZSTACK_PBTOhNGN2hiPSCs_BR3_N16_Unmixed.czi\u001b[39m\u001b[39m\"\u001b[39m\n",
      "\u001b[0;31mModuleNotFoundError\u001b[0m: No module named 'aicsimageio'"
     ]
    }
   ],
   "source": [
    "import os\n",
    "import tifffile\n",
    "from tifffile import imread, imsave\n",
    "\n",
    "import czifile\n",
    "import aicsimageio \n",
    "import aicsimageio.readers\n",
    "import aicspylibczi\n",
    "\n",
    "from aicsimageio.readers import czi_reader\n",
    "from aicspylibczi import CziFile"
   ]
  },
  {
   "cell_type": "code",
   "execution_count": 6,
   "id": "9b345036",
   "metadata": {},
   "outputs": [
    {
     "name": "stdout",
     "output_type": "stream",
     "text": [
      "Object `czi_reader` not found.\n"
     ]
    }
   ],
   "source": [
    "  # Open file and get data\n",
    "img = AICSImage(path)"
   ]
  },
  {
   "cell_type": "code",
   "execution_count": 43,
   "id": "2769323f",
   "metadata": {},
   "outputs": [
    {
     "name": "stdout",
     "output_type": "stream",
     "text": [
      ".DS_Store\n",
      "out\n",
      "raw\n"
     ]
    }
   ],
   "source": [
    "Data_folder = os.getenv(\"HOME\")+\"/work/Imaging/mcz_subcell/data\" #@param {type:\"string\"}\n",
    "Result_folder = Data_folder+\"/out/\" #@param {type:\"string\"}\n",
    " \n",
    "for image in os.listdir(Data_folder):\n",
    "        if (image[-4:] == \".czi\") :\n",
    "            prediction_stack_16 = czifile.imread(Data_folder+\"/\"+image) \n",
    "            os.chdir(Result_folder)\n",
    "            tifffile.imwrite(image+\"_compressed.ome.tif\", \n",
    "                             prediction_stack_16.squeeze(), \n",
    "                             bigtiff=True, \n",
    "                             metadata={'axes': 'CZYX',\n",
    "                                       'PhysicalSizeX': 0.24,\n",
    "                                       'PhysicalSizeY': 0.24,\n",
    "                                       'PhysicalSizeZ': 0.52,\n",
    "                                       'PhysicalSizeXUnit': '\\xb5m',\n",
    "                                       'PhysicalSizeYUnit': '\\xb5m',\n",
    "                                       'PhysicalSizeZUnit': '\\xb5m'}, \n",
    "                             compression ='zlib')\n",
    "        else :\n",
    "            print(image)\n",
    "            "
   ]
  },
  {
   "cell_type": "code",
   "execution_count": 18,
   "id": "8f726aa5",
   "metadata": {},
   "outputs": [
    {
     "data": {
      "text/plain": [
       "'.czi'"
      ]
     },
     "execution_count": 18,
     "metadata": {},
     "output_type": "execute_result"
    }
   ],
   "source": [
    "os.listdir(Data_folder)[1][-4:]"
   ]
  },
  {
   "cell_type": "code",
   "execution_count": 37,
   "id": "2bab15bf",
   "metadata": {},
   "outputs": [
    {
     "data": {
      "text/plain": [
       "'/home/jovyan/Imaging/mcz_subcell/data/'"
      ]
     },
     "execution_count": 37,
     "metadata": {},
     "output_type": "execute_result"
    }
   ],
   "source": [
    "os.getenv(\"HOME\")+\"/Imaging/mcz_subcell/data/\"\n"
   ]
  },
  {
   "cell_type": "code",
   "execution_count": 41,
   "id": "b1ec881a",
   "metadata": {},
   "outputs": [
    {
     "data": {
      "text/plain": [
       "'/home/jovyan/Imaging/mcz_subcell/data'"
      ]
     },
     "execution_count": 41,
     "metadata": {},
     "output_type": "execute_result"
    }
   ],
   "source": [
    "Data_folder"
   ]
  },
  {
   "cell_type": "code",
   "execution_count": 42,
   "id": "01562676",
   "metadata": {},
   "outputs": [
    {
     "name": "stdout",
     "output_type": "stream",
     "text": [
      "/home/jovyan/work/Imaging/mcz_subcell/data/out\r\n"
     ]
    }
   ],
   "source": [
    "!pwd"
   ]
  },
  {
   "cell_type": "code",
   "execution_count": null,
   "id": "636dfdb0",
   "metadata": {},
   "outputs": [],
   "source": []
  }
 ],
 "metadata": {
  "kernelspec": {
   "display_name": "Python 3.8.9 64-bit",
   "language": "python",
   "name": "python3"
  },
  "language_info": {
   "codemirror_mode": {
    "name": "ipython",
    "version": 3
   },
   "file_extension": ".py",
   "mimetype": "text/x-python",
   "name": "python",
   "nbconvert_exporter": "python",
   "pygments_lexer": "ipython3",
   "version": "3.8.9"
  },
  "vscode": {
   "interpreter": {
    "hash": "31f2aee4e71d21fbe5cf8b01ff0e069b9275f58929596ceb00d14d90e3e16cd6"
   }
  }
 },
 "nbformat": 4,
 "nbformat_minor": 5
}
