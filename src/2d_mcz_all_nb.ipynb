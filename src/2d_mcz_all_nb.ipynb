{
 "cells": [
  {
   "cell_type": "markdown",
   "id": "favorite-circular",
   "metadata": {},
   "source": [
    "Converting 2D MCZ_ALLdata_05112022 R-script to notebook format"
   ]
  },
  {
   "cell_type": "code",
   "execution_count": 1,
   "id": "dress-sudan",
   "metadata": {},
   "outputs": [],
   "source": [
    "#Things that need editing before each use:\n",
    "# 1. Working directory: click \"Session\" -> \"Set Working Directory\" -> \"Choose Directory\" -> select the folder where you have the excel files that you want to work with for this session.\n",
    "# 2. Your file names: Use the \"Find/Replace\" tab to easily change the date/file name in the file names when you are working with a different set of data that are processed on a different date\n",
    "# 3. Then number of images included for 'doesntLD' object below\n",
    "# 4. Your specific experiment number/code when writing 'clean' files at very end\n",
    "\n",
    "list.of.packages <- c(\"dplyr\", \"readr\")\n",
    "new.packages <- list.of.packages[!(list.of.packages %in% installed.packages()[,\"Package\"])]\n",
    "if(length(new.packages)) install.packages(new.packages)"
   ]
  },
  {
   "cell_type": "code",
   "execution_count": 2,
   "id": "complex-cleveland",
   "metadata": {
    "scrolled": true
   },
   "outputs": [
    {
     "name": "stderr",
     "output_type": "stream",
     "text": [
      "── \u001b[1mAttaching packages\u001b[22m ─────────────────────────────────────── tidyverse 1.3.1 ──\n",
      "\n",
      "\u001b[32m✔\u001b[39m \u001b[34mggplot2\u001b[39m 3.3.6     \u001b[32m✔\u001b[39m \u001b[34mpurrr  \u001b[39m 0.3.4\n",
      "\u001b[32m✔\u001b[39m \u001b[34mtibble \u001b[39m 3.1.7     \u001b[32m✔\u001b[39m \u001b[34mdplyr  \u001b[39m 1.0.9\n",
      "\u001b[32m✔\u001b[39m \u001b[34mtidyr  \u001b[39m 1.2.0     \u001b[32m✔\u001b[39m \u001b[34mstringr\u001b[39m 1.4.0\n",
      "\u001b[32m✔\u001b[39m \u001b[34mreadr  \u001b[39m 2.1.2     \u001b[32m✔\u001b[39m \u001b[34mforcats\u001b[39m 0.5.1\n",
      "\n",
      "── \u001b[1mConflicts\u001b[22m ────────────────────────────────────────── tidyverse_conflicts() ──\n",
      "\u001b[31m✖\u001b[39m \u001b[34mdplyr\u001b[39m::\u001b[32mfilter()\u001b[39m masks \u001b[34mstats\u001b[39m::filter()\n",
      "\u001b[31m✖\u001b[39m \u001b[34mdplyr\u001b[39m::\u001b[32mlag()\u001b[39m    masks \u001b[34mstats\u001b[39m::lag()\n",
      "\n"
     ]
    }
   ],
   "source": [
    "library(tidyverse)\n",
    "library(readr)"
   ]
  },
  {
   "cell_type": "code",
   "execution_count": 5,
   "id": "8ff88f96",
   "metadata": {},
   "outputs": [],
   "source": [
    "data_dir <- '/home/jovyan/work/data/out'"
   ]
  },
  {
   "cell_type": "code",
   "execution_count": 7,
   "id": "a8fb68ee",
   "metadata": {},
   "outputs": [
    {
     "data": {
      "text/html": [
       "<style>\n",
       ".list-inline {list-style: none; margin:0; padding: 0}\n",
       ".list-inline>li {display: inline-block}\n",
       ".list-inline>li:not(:last-child)::after {content: \"\\00b7\"; padding: 0 .5ex}\n",
       "</style>\n",
       "<ol class=list-inline><li>'CellP2Dv1wNU03202022_CY.csv'</li><li>'CellP2Dv1wNU03202022_ER.csv'</li><li>'CellP2Dv1wNU03202022_Experiment.csv'</li><li>'CellP2Dv1wNU03202022_GL.csv'</li><li>'CellP2Dv1wNU03202022_Image.csv'</li><li>'CellP2Dv1wNU03202022_LD.csv'</li><li>'CellP2Dv1wNU03202022_LS.csv'</li><li>'CellP2Dv1wNU03202022_MT.csv'</li><li>'CellP2Dv1wNU03202022_NU.csv'</li><li>'CellP2Dv1wNU03202022_PO.csv'</li><li>'CellP2Dv1wNU03202022_SO.csv'</li></ol>\n"
      ],
      "text/latex": [
       "\\begin{enumerate*}\n",
       "\\item 'CellP2Dv1wNU03202022\\_CY.csv'\n",
       "\\item 'CellP2Dv1wNU03202022\\_ER.csv'\n",
       "\\item 'CellP2Dv1wNU03202022\\_Experiment.csv'\n",
       "\\item 'CellP2Dv1wNU03202022\\_GL.csv'\n",
       "\\item 'CellP2Dv1wNU03202022\\_Image.csv'\n",
       "\\item 'CellP2Dv1wNU03202022\\_LD.csv'\n",
       "\\item 'CellP2Dv1wNU03202022\\_LS.csv'\n",
       "\\item 'CellP2Dv1wNU03202022\\_MT.csv'\n",
       "\\item 'CellP2Dv1wNU03202022\\_NU.csv'\n",
       "\\item 'CellP2Dv1wNU03202022\\_PO.csv'\n",
       "\\item 'CellP2Dv1wNU03202022\\_SO.csv'\n",
       "\\end{enumerate*}\n"
      ],
      "text/markdown": [
       "1. 'CellP2Dv1wNU03202022_CY.csv'\n",
       "2. 'CellP2Dv1wNU03202022_ER.csv'\n",
       "3. 'CellP2Dv1wNU03202022_Experiment.csv'\n",
       "4. 'CellP2Dv1wNU03202022_GL.csv'\n",
       "5. 'CellP2Dv1wNU03202022_Image.csv'\n",
       "6. 'CellP2Dv1wNU03202022_LD.csv'\n",
       "7. 'CellP2Dv1wNU03202022_LS.csv'\n",
       "8. 'CellP2Dv1wNU03202022_MT.csv'\n",
       "9. 'CellP2Dv1wNU03202022_NU.csv'\n",
       "10. 'CellP2Dv1wNU03202022_PO.csv'\n",
       "11. 'CellP2Dv1wNU03202022_SO.csv'\n",
       "\n",
       "\n"
      ],
      "text/plain": [
       " [1] \"CellP2Dv1wNU03202022_CY.csv\"         \"CellP2Dv1wNU03202022_ER.csv\"        \n",
       " [3] \"CellP2Dv1wNU03202022_Experiment.csv\" \"CellP2Dv1wNU03202022_GL.csv\"        \n",
       " [5] \"CellP2Dv1wNU03202022_Image.csv\"      \"CellP2Dv1wNU03202022_LD.csv\"        \n",
       " [7] \"CellP2Dv1wNU03202022_LS.csv\"         \"CellP2Dv1wNU03202022_MT.csv\"        \n",
       " [9] \"CellP2Dv1wNU03202022_NU.csv\"         \"CellP2Dv1wNU03202022_PO.csv\"        \n",
       "[11] \"CellP2Dv1wNU03202022_SO.csv\"        "
      ]
     },
     "metadata": {},
     "output_type": "display_data"
    }
   ],
   "source": [
    "#Read ALL the excel files present in the folder into R at once. This step might take more than a few seconds depending on the size of your files.\n",
    "data_files <- list.files(data_dir,pattern = \"*.csv\")\n",
    "data_files"
   ]
  },
  {
   "cell_type": "code",
   "execution_count": 9,
   "id": "ranging-flush",
   "metadata": {},
   "outputs": [],
   "source": [
    "for(i in 1:length(data_files)) {\n",
    "  assign(data_files[i],\n",
    "         read.csv(paste0(data_dir,\"/\", data_files[i])))\n",
    "}"
   ]
  },
  {
   "cell_type": "code",
   "execution_count": 11,
   "id": "designing-atlanta",
   "metadata": {},
   "outputs": [],
   "source": [
    "#selecting size and shape metrics from the individual organelle files:\n",
    "ER <- `CellP2Dv1wNU03202022_ER.csv` %>% \n",
    "    select(ImageNumber, AreaShape_Area, AreaShape_Eccentricity) %>% \n",
    "    group_by(ImageNumber) %>% summarise(ER_pixel_area = sum(AreaShape_Area), ER_mean_ecty = mean(AreaShape_Eccentricity))\n",
    "\n",
    "# number_have_ER <- `MCZ_hiPSCs_CellP2D_05192022_ER.csv` %>%\n",
    "#     select(ImageNumber, AreaShape_Area, ObjectNumber) %>% group_by(ImageNumber) %>% summarise()\n",
    "# doesntER <- subset(data.frame(ImageNumber = 1:38), !(ImageNumber %in% number_have_ER$ImageNumber))\n",
    "# unordered_ER <- doesntER %>% add_column(ER_total_area = NA, ER_mean_eccentricity = NA) %>% rbind(incomplete_ER)\n",
    "# ER <- unordered_ER[with(unordered_ER, order(ImageNumber)),]"
   ]
  },
  {
   "cell_type": "code",
   "execution_count": 29,
   "id": "fa98d3ff",
   "metadata": {},
   "outputs": [
    {
     "data": {
      "text/html": [
       "'CellP2Dv1wNU03202022_ER.csv'"
      ],
      "text/latex": [
       "'CellP2Dv1wNU03202022\\_ER.csv'"
      ],
      "text/markdown": [
       "'CellP2Dv1wNU03202022_ER.csv'"
      ],
      "text/plain": [
       "[1] \"CellP2Dv1wNU03202022_ER.csv\""
      ]
     },
     "metadata": {},
     "output_type": "display_data"
    }
   ],
   "source": []
  },
  {
   "cell_type": "code",
   "execution_count": 13,
   "id": "changed-tongue",
   "metadata": {},
   "outputs": [],
   "source": [
    "PO <- `CellP2Dv1wNU03202022_PO.csv` %>% \n",
    "  select(ImageNumber, AreaShape_Area, AreaShape_Eccentricity, AreaShape_FormFactor, AreaShape_MajorAxisLength, AreaShape_MinorAxisLength) %>% \n",
    "  group_by(ImageNumber) %>% summarise(PO_pixel_area = sum(AreaShape_Area), PO_med_size = median(AreaShape_Area), PO_mean_ecty = mean(AreaShape_Eccentricity), PO_mean_FormF= mean(AreaShape_FormFactor), PO_mean_MajAxis= mean(AreaShape_MajorAxisLength), PO_mean_MinAxis= mean(AreaShape_MinorAxisLength))\n",
    "\n",
    "# number_have_PO <- `MCZ_hiPSCs_CellP2D_05192022_PO.csv` %>%\n",
    "#   select(ImageNumber, AreaShape_Area, ObjectNumber) %>% group_by(ImageNumber) %>% summarise()\n",
    "# doesntPO <- subset(data.frame(ImageNumber = 1:38), !(ImageNumber %in% number_have_PO$ImageNumber))\n",
    "# unordered_PO <- doesntPO %>% add_column(PO_total_area = NA, PO_median_size = NA, PO_mean_eccentricity = NA) %>% rbind(incomplete_PO)\n",
    "# PO <- unordered_PO[with(unordered_PO, order(ImageNumber)),]"
   ]
  },
  {
   "cell_type": "code",
   "execution_count": 14,
   "id": "material-integral",
   "metadata": {},
   "outputs": [],
   "source": [
    "#LD <- `MCZ_hiPSCs_CellP2D_05192022_LD.csv` %>% \n",
    "#select(ImageNumber, AreaShape_Area, AreaShape_Eccentricity) %>% \n",
    "#group_by(ImageNumber) %>% summarise(LD_pixel_area = sum(AreaShape_Area), LD_med_size = median(AreaShape_Area), LD_mean_ecty = mean(AreaShape_Eccentricity))\n",
    "\n",
    "incomplete_LD <- `CellP2Dv1wNU03202022_LD.csv` %>% \n",
    "  select(ImageNumber, AreaShape_Area, AreaShape_Eccentricity, AreaShape_FormFactor, AreaShape_MajorAxisLength, AreaShape_MinorAxisLength) %>% \n",
    "  group_by(ImageNumber) %>% summarise(LD_pixel_area = sum(AreaShape_Area), LD_med_size = median(AreaShape_Area), \n",
    "                                      LD_mean_ecty = mean(AreaShape_Eccentricity), LD_mean_FormF= mean(AreaShape_FormFactor), LD_mean_MajAxis= mean(AreaShape_MajorAxisLength), LD_mean_MinAxis= mean(AreaShape_MinorAxisLength))\n",
    "\n",
    "number_have_LD <- `CellP2Dv1wNU03202022_LD.csv` %>%\n",
    "  select(ImageNumber, AreaShape_Area, ObjectNumber) %>% group_by(ImageNumber) %>% summarise()\n",
    "#change the number of the pictures:put the TOTAL number of images\n",
    "doesntLD <- subset(data.frame(ImageNumber = 1:31), !(ImageNumber %in% number_have_LD$ImageNumber))\n",
    "\n",
    "unordered_LD <- doesntLD %>% add_column(LD_pixel_area = NA, LD_med_size = NA, LD_mean_ecty = NA, LD_mean_FormF= NA, LD_mean_MajAxis= NA, LD_mean_MinAxis= NA) %>% rbind(incomplete_LD)\n",
    "\n",
    "LD <- unordered_LD[with(unordered_LD, order(ImageNumber)),]"
   ]
  },
  {
   "cell_type": "code",
   "execution_count": 15,
   "id": "verified-acrylic",
   "metadata": {},
   "outputs": [],
   "source": [
    "# GL <- `MCZ_hiPSCs_CellP2D_05192022_GL.csv` %>% \n",
    "# select(ImageNumber, AreaShape_Area, AreaShape_Eccentricity, AreaShape_FormFactor, AreaShape_MajorAxisLength, AreaShape_MinorAxisLength) %>% \n",
    "# group_by(ImageNumber) %>% summarise(GL_pixel_area = sum(AreaShape_Area), GL_med_size = median(AreaShape_Area), GL_mean_ecty = mean(AreaShape_Eccentricity),GL_mean_FormF= mean(AreaShape_FormFactor), GL_mean_MajAxis= mean(AreaShape_MajorAxisLength), GL_mean_MinAxis= mean(AreaShape_MinorAxisLength))\n",
    "\n",
    "incomplete_GL <- `CellP2Dv1wNU03202022_GL.csv` %>%\n",
    "  select(ImageNumber, AreaShape_Area, AreaShape_Eccentricity, AreaShape_FormFactor, AreaShape_MajorAxisLength, AreaShape_MinorAxisLength) %>% \n",
    "  group_by(ImageNumber) %>% summarise(GL_pixel_area = sum(AreaShape_Area), GL_med_size = median(AreaShape_Area), GL_mean_ecty = mean(AreaShape_Eccentricity),GL_mean_FormF= mean(AreaShape_FormFactor), GL_mean_MajAxis= mean(AreaShape_MajorAxisLength), GL_mean_MinAxis= mean(AreaShape_MinorAxisLength))\n",
    "\n",
    "number_have_GL <- `CellP2Dv1wNU03202022_GL.csv` %>%\n",
    "   select(ImageNumber, AreaShape_Area, ObjectNumber) %>% group_by(ImageNumber) %>% summarise()\n",
    "\n",
    "doesntGL <- subset(data.frame(ImageNumber = 1:31), !(ImageNumber %in% number_have_GL$ImageNumber))\n",
    "\n",
    "unordered_GL <- doesntGL %>% add_column(GL_pixel_area = NA, GL_med_size = NA, GL_mean_ecty = NA, GL_mean_FormF= NA, GL_mean_MajAxis= NA, GL_mean_MinAxis= NA) %>% rbind(incomplete_GL)\n",
    "\n",
    "GL <- unordered_GL[with(unordered_GL, order(ImageNumber)),]"
   ]
  },
  {
   "cell_type": "code",
   "execution_count": 16,
   "id": "operational-neutral",
   "metadata": {},
   "outputs": [],
   "source": [
    "MT <- `CellP2Dv1wNU03202022_MT.csv` %>% \n",
    "  select(ImageNumber, AreaShape_Area, AreaShape_Eccentricity, AreaShape_FormFactor, AreaShape_MajorAxisLength, AreaShape_MinorAxisLength) %>% \n",
    "  group_by(ImageNumber) %>% summarise(MT_pixel_area = sum(AreaShape_Area), MT_med_size = median(AreaShape_Area), MT_mean_ecty = mean(AreaShape_Eccentricity), MT_mean_FormF= mean(AreaShape_FormFactor), MT_mean_MajAxis= mean(AreaShape_MajorAxisLength), MT_mean_MinAxis= mean(AreaShape_MinorAxisLength))\n",
    "\n",
    "# number_have_MT <- `MCZ_hiPSCs_CellP2D_05192022_MT.csv` %>%\n",
    "#   select(ImageNumber, AreaShape_Area, ObjectNumber) %>% group_by(ImageNumber) %>% summarise()\n",
    "# doesntMT <- subset(data.frame(ImageNumber = 1:38), !(ImageNumber %in% number_have_MT$ImageNumber))\n",
    "# unordered_MT <- doesntMT %>% add_column(MT_total_area = NA, MT_median_size = NA, MT_mean_eccentricity = NA) %>% rbind(incomplete_MT)\n",
    "# MT <- unordered_MT[with(unordered_MT, order(ImageNumber)),]\n",
    "\n",
    "\n",
    "LS <- `CellP2Dv1wNU03202022_MT.csv` %>% \n",
    "  select(ImageNumber, AreaShape_Area, AreaShape_Eccentricity, AreaShape_FormFactor, AreaShape_MajorAxisLength, AreaShape_MinorAxisLength, AreaShape_Compactness) %>% \n",
    "  group_by(ImageNumber) %>% summarise(LS_pixel_area = sum(AreaShape_Area), LS_med_size = median(AreaShape_Area), LS_mean_ecty = mean(AreaShape_Eccentricity), LS_mean_FormF= mean(AreaShape_FormFactor), LS_mean_MajAxis= mean(AreaShape_MajorAxisLength), LS_mean_MinAxis= mean(AreaShape_MinorAxisLength), LS_mean_Compact= mean(AreaShape_Compactness))\n",
    "\n",
    "# number_have_LS <- `MCZ_hiPSCs_CellP2D_05192022_LS.csv` %>%\n",
    "#   select(ImageNumber, AreaShape_Area, ObjectNumber) %>% group_by(ImageNumber) %>% summarise()\n",
    "# doesntLS <- subset(data.frame(ImageNumber = 1:38), !(ImageNumber %in% number_have_LS$ImageNumber))\n",
    "# unordered_LS <- doesntLS %>% add_column(LS_total_area = NA, LS_median_size = NA, LS_mean_eccentricity = NA) %>% rbind(incomplete_LS)\n",
    "# LS <- unordered_LS[with(unordered_LS, order(ImageNumber)),]"
   ]
  },
  {
   "cell_type": "code",
   "execution_count": 17,
   "id": "protective-practitioner",
   "metadata": {},
   "outputs": [],
   "source": [
    "#Selecting neighbor metrics from individual organelle files:\n",
    "ER_neighbor <- `CellP2Dv1wNU03202022_ER.csv` %>% \n",
    "  select(ImageNumber, Neighbors_PercentTouching_GL_Adjacent, Neighbors_PercentTouching_LS_Adjacent, Neighbors_PercentTouching_MT_Adjacent, Neighbors_PercentTouching_PO_Adjacent, Neighbors_PercentTouching_LD_Adjacent) %>% group_by(ImageNumber) %>%\n",
    "  summarize(mean_perc_ER_bdry_GL = mean(Neighbors_PercentTouching_GL_Adjacent), \n",
    "            mean_perc_ER_bdry_PO = mean(Neighbors_PercentTouching_PO_Adjacent), \n",
    "            mean_perc_ER_bdry_MT = mean(Neighbors_PercentTouching_MT_Adjacent),\n",
    "            mean_perc_ER_bdry_LD = mean(Neighbors_PercentTouching_LD_Adjacent),\n",
    "            mean_perc_ER_bdry_LS = mean(Neighbors_PercentTouching_LS_Adjacent))\n",
    "\n",
    "# unordered_ER_neighbor <- doesntER %>% add_column(mean_perc_ER_bdry_GL = NA, mean_perc_ER_bdry_PO = NA, mean_perc_ER_bdry_MT = NA, mean_perc_ER_bdry_LS = NA)%>% rbind(incomplete_ER_neighbor)\n",
    "# ER_neighbor <- unordered_ER_neighbor[with(unordered_ER_neighbor, order(ImageNumber)),]"
   ]
  },
  {
   "cell_type": "code",
   "execution_count": 18,
   "id": "hispanic-interface",
   "metadata": {},
   "outputs": [],
   "source": [
    "#Lysosomes neighbors\n",
    "LS_neighbor <- `CellP2Dv1wNU03202022_LS.csv` %>% \n",
    "  select(ImageNumber, Neighbors_PercentTouching_GL_Adjacent,\tNeighbors_PercentTouching_ER_Adjacent,Neighbors_PercentTouching_LD_Adjacent, Neighbors_PercentTouching_MT_Adjacent, Neighbors_PercentTouching_PO_Adjacent) %>% group_by(ImageNumber) %>%\n",
    "  summarize(mean_perc_LS_bdry_GL = mean(Neighbors_PercentTouching_GL_Adjacent), \n",
    "            mean_perc_LS_bdry_PO = mean(Neighbors_PercentTouching_PO_Adjacent),\n",
    "            mean_perc_LS_bdry_MT = mean(Neighbors_PercentTouching_MT_Adjacent),\n",
    "            mean_perc_PO_bdry_LD = mean(Neighbors_PercentTouching_LD_Adjacent),\n",
    "            mean_perc_LS_bdry_ER = mean(Neighbors_PercentTouching_ER_Adjacent))"
   ]
  },
  {
   "cell_type": "code",
   "execution_count": 19,
   "id": "amended-diabetes",
   "metadata": {},
   "outputs": [],
   "source": [
    "#Mitochondria neighbors\n",
    "MT_neighbor <- `CellP2Dv1wNU03202022_MT.csv` %>% \n",
    "  select(ImageNumber, Neighbors_PercentTouching_GL_Adjacent,\tNeighbors_PercentTouching_ER_Adjacent, Neighbors_PercentTouching_LD_Adjacent, Neighbors_PercentTouching_LS_Adjacent, Neighbors_PercentTouching_PO_Adjacent) %>% group_by(ImageNumber) %>%\n",
    "  summarize(mean_perc_MT_bdry_GL = mean(Neighbors_PercentTouching_GL_Adjacent), \n",
    "            mean_perc_MT_bdry_PO = mean(Neighbors_PercentTouching_PO_Adjacent),\n",
    "            mean_perc_MT_bdry_LS = mean(Neighbors_PercentTouching_LS_Adjacent),\n",
    "            mean_perc_PO_bdry_LD = mean(Neighbors_PercentTouching_LD_Adjacent),\n",
    "            mean_perc_MT_bdry_ER = mean(Neighbors_PercentTouching_ER_Adjacent))\n",
    "\n",
    "# unordered_MT_neighbor <- doesntMT %>% add_column(mean_perc_MT_bdry_GL = NA, mean_perc_MT_bdry_PO = NA, mean_perc_MT_bdry_LS = NA, mean_perc_MT_bdry_ER = NA)%>% rbind(incomplete_MT_neighbor)\n",
    "# MT_neighbor <- unordered_MT_neighbor[with(unordered_MT_neighbor, order(ImageNumber)),]"
   ]
  },
  {
   "cell_type": "code",
   "execution_count": 20,
   "id": "violent-nightmare",
   "metadata": {},
   "outputs": [],
   "source": [
    "#Golgi neighbors\n",
    "GL_neighbor <- `CellP2Dv1wNU03202022_GL.csv` %>% \n",
    "  select(ImageNumber, Neighbors_PercentTouching_LS_Adjacent,\tNeighbors_PercentTouching_ER_Adjacent, Neighbors_PercentTouching_LD_Adjacent, Neighbors_PercentTouching_MT_Adjacent, Neighbors_PercentTouching_PO_Adjacent) %>% group_by(ImageNumber) %>%\n",
    "  summarize(mean_perc_GL_bdry_LS = mean(Neighbors_PercentTouching_LS_Adjacent), \n",
    "            mean_perc_GL_bdry_PO = mean(Neighbors_PercentTouching_PO_Adjacent),\n",
    "            mean_perc_GL_bdry_MT = mean(Neighbors_PercentTouching_MT_Adjacent),\n",
    "            mean_perc_PO_bdry_LD = mean(Neighbors_PercentTouching_LD_Adjacent),\n",
    "            mean_perc_GL_bdry_ER = mean(Neighbors_PercentTouching_ER_Adjacent))\n",
    "\n",
    "# unordered_GL_neighbor <- doesntGL %>% add_column(mean_perc_GL_bdry_LS = NA, mean_perc_GL_bdry_PO = NA, mean_perc_GL_bdry_MT = NA, mean_perc_GL_bdry_ER = NA)%>% rbind(incomplete_GL_neighbor)\n",
    "# GL_neighbor <- unordered_GL_neighbor[with(unordered_GL_neighbor, order(ImageNumber)),]"
   ]
  },
  {
   "cell_type": "code",
   "execution_count": 21,
   "id": "looking-veteran",
   "metadata": {},
   "outputs": [],
   "source": [
    "#Peroxisomes neighbors\n",
    "PO_neighbor <- `CellP2Dv1wNU03202022_PO.csv` %>% \n",
    "  select(ImageNumber, Neighbors_PercentTouching_GL_Adjacent,Neighbors_PercentTouching_ER_Adjacent, Neighbors_PercentTouching_LD_Adjacent, Neighbors_PercentTouching_MT_Adjacent, Neighbors_PercentTouching_LS_Adjacent) %>% group_by(ImageNumber) %>%\n",
    "  summarize(mean_perc_PO_bdry_GL = mean(Neighbors_PercentTouching_GL_Adjacent), \n",
    "            mean_perc_PO_bdry_LS = mean(Neighbors_PercentTouching_LS_Adjacent),\n",
    "            mean_perc_PO_bdry_MT = mean(Neighbors_PercentTouching_MT_Adjacent),\n",
    "            mean_perc_PO_bdry_LD = mean(Neighbors_PercentTouching_LD_Adjacent),\t\n",
    "            mean_perc_PO_bdry_ER = mean(Neighbors_PercentTouching_ER_Adjacent))\n",
    "# unordered_PO_neighbor <- doesntPO %>% add_column(mean_perc_PO_bdry_GL = NA, mean_perc_PO_bdry_LS = NA, mean_perc_PO_bdry_MT = NA, mean_perc_PO_bdry_ER = NA)%>% rbind(incomplete_PO_neighbor)\n",
    "# PO_neighbor <- unordered_PO_neighbor[with(unordered_PO_neighbor, order(ImageNumber)),]"
   ]
  },
  {
   "cell_type": "code",
   "execution_count": 22,
   "id": "dress-uruguay",
   "metadata": {},
   "outputs": [],
   "source": [
    "#Lysosomes Proximity (FirstDistance and SecondDistance)\n",
    "LS_Proximity <- `CellP2Dv1wNU03202022_LS.csv` %>% \n",
    "  select(ImageNumber, Neighbors_FirstClosestDistance_ER_Adjacent, Neighbors_FirstClosestDistance_GL_Adjacent, Neighbors_FirstClosestDistance_MT_Adjacent, Neighbors_FirstClosestDistance_LD_Adjacent, Neighbors_FirstClosestDistance_PO_Adjacent) %>% group_by(ImageNumber) %>%\n",
    "  summarize(mean_perc_LS_Prox_ER= mean(Neighbors_FirstClosestDistance_ER_Adjacent),\n",
    "            mean_perc_LS_Prox_MT= mean(Neighbors_FirstClosestDistance_MT_Adjacent),\n",
    "            mean_perc_LS_Prox_PO= mean(Neighbors_FirstClosestDistance_PO_Adjacent),\n",
    "            mean_perc_LS_Prox_GL= mean(Neighbors_FirstClosestDistance_GL_Adjacent),\n",
    "            mean_perc_LS_Prox_LD= mean(Neighbors_FirstClosestDistance_LD_Adjacent))"
   ]
  },
  {
   "cell_type": "code",
   "execution_count": 23,
   "id": "stone-complaint",
   "metadata": {},
   "outputs": [],
   "source": [
    "#Mitochondria Proximity (FirstDistance and SecondDistance)\n",
    "MT_Proximity <- `CellP2Dv1wNU03202022_MT.csv` %>% \n",
    "  select(ImageNumber, Neighbors_FirstClosestDistance_ER_Adjacent, Neighbors_FirstClosestDistance_GL_Adjacent, Neighbors_FirstClosestDistance_LS_Adjacent, Neighbors_FirstClosestDistance_LD_Adjacent, Neighbors_FirstClosestDistance_PO_Adjacent) %>% group_by(ImageNumber) %>%\n",
    "  summarize(mean_perc_MT_Prox_ER= mean(Neighbors_FirstClosestDistance_ER_Adjacent),\n",
    "            mean_perc_MT_Prox_LS= mean(Neighbors_FirstClosestDistance_LS_Adjacent),\n",
    "            mean_perc_MT_Prox_PO= mean(Neighbors_FirstClosestDistance_PO_Adjacent),\n",
    "            mean_perc_MT_Prox_GL= mean(Neighbors_FirstClosestDistance_GL_Adjacent),\n",
    "            mean_perc_MT_Prox_LD= mean(Neighbors_FirstClosestDistance_LD_Adjacent))"
   ]
  },
  {
   "cell_type": "code",
   "execution_count": 24,
   "id": "acting-canon",
   "metadata": {},
   "outputs": [],
   "source": [
    "#Golgi Proximity (FirstDistance and SecondDistance)\n",
    "GL_Proximity <- `CellP2Dv1wNU03202022_GL.csv` %>% \n",
    "  select(ImageNumber, Neighbors_FirstClosestDistance_ER_Adjacent, Neighbors_FirstClosestDistance_MT_Adjacent, Neighbors_FirstClosestDistance_LS_Adjacent, Neighbors_FirstClosestDistance_LD_Adjacent, Neighbors_FirstClosestDistance_PO_Adjacent) %>% group_by(ImageNumber) %>%\n",
    "  summarize(mean_perc_GL_Prox_ER= mean(Neighbors_FirstClosestDistance_ER_Adjacent),\n",
    "            mean_perc_GL_Prox_LS= mean(Neighbors_FirstClosestDistance_LS_Adjacent),\n",
    "            mean_perc_GL_Prox_PO= mean(Neighbors_FirstClosestDistance_PO_Adjacent),\n",
    "            mean_perc_GL_Prox_MT= mean(Neighbors_FirstClosestDistance_MT_Adjacent),\n",
    "            mean_perc_GL_Prox_LD= mean(Neighbors_FirstClosestDistance_LD_Adjacent))"
   ]
  },
  {
   "cell_type": "code",
   "execution_count": 25,
   "id": "chronic-cattle",
   "metadata": {},
   "outputs": [],
   "source": [
    "#Peroxisomes Proximity (FirstDistance and SecondDistance)\n",
    "PO_Proximity <- `CellP2Dv1wNU03202022_PO.csv` %>% \n",
    "  select(ImageNumber, Neighbors_FirstClosestDistance_ER_Adjacent, Neighbors_FirstClosestDistance_MT_Adjacent, Neighbors_FirstClosestDistance_LS_Adjacent, Neighbors_FirstClosestDistance_LD_Adjacent, Neighbors_FirstClosestDistance_GL_Adjacent) %>% group_by(ImageNumber) %>%\n",
    "  summarize(mean_perc_PO_Prox_ER= mean(Neighbors_FirstClosestDistance_ER_Adjacent),\n",
    "            mean_perc_PO_Prox_LS= mean(Neighbors_FirstClosestDistance_LS_Adjacent),\n",
    "            mean_perc_PO_Prox_GL= mean(Neighbors_FirstClosestDistance_GL_Adjacent),\n",
    "            mean_perc_PO_Prox_MT= mean(Neighbors_FirstClosestDistance_MT_Adjacent),\n",
    "            mean_perc_PO_Prox_LD= mean(Neighbors_FirstClosestDistance_LD_Adjacent))"
   ]
  },
  {
   "cell_type": "code",
   "execution_count": 26,
   "id": "alternative-psychiatry",
   "metadata": {},
   "outputs": [],
   "source": [
    "#ER Proximity (FirstDistance and SecondDistance)\n",
    "ER_Proximity <- `CellP2Dv1wNU03202022_ER.csv` %>% \n",
    "  select(ImageNumber, Neighbors_FirstClosestDistance_GL_Adjacent, Neighbors_FirstClosestDistance_MT_Adjacent, Neighbors_FirstClosestDistance_LS_Adjacent, Neighbors_FirstClosestDistance_LD_Adjacent, Neighbors_FirstClosestDistance_PO_Adjacent) %>% group_by(ImageNumber) %>%\n",
    "  summarize(mean_perc_ER_Prox_GL= mean(Neighbors_FirstClosestDistance_GL_Adjacent),\n",
    "            mean_perc_ER_Prox_LS= mean(Neighbors_FirstClosestDistance_LS_Adjacent),\n",
    "            mean_perc_ER_Prox_PO= mean(Neighbors_FirstClosestDistance_PO_Adjacent),\n",
    "            mean_perc_ER_Prox_MT= mean(Neighbors_FirstClosestDistance_MT_Adjacent),\n",
    "            mean_perc_ER_Prox_LD= mean(Neighbors_FirstClosestDistance_LD_Adjacent))"
   ]
  },
  {
   "cell_type": "code",
   "execution_count": null,
   "id": "chief-adolescent",
   "metadata": {},
   "outputs": [],
   "source": [
    "#LD Proximity (FirstDistance and SecondDistance)\n",
    "#LD_Proximity <- `MCZ_hiPSCs_CellP2D_05192022_LD.csv` %>% \n",
    "#select(ImageNumber, Neighbors_FirstClosestDistance_ER_Adjacent, Neighbors_FirstClosestDistance_MT_Adjacent, Neighbors_FirstClosestDistance_LS_Adjacent, Neighbors_FirstClosestDistance_GL_Adjacent, Neighbors_FirstClosestDistance_PO_Adjacent) %>% group_by(ImageNumber) %>%\n",
    "#summarize(mean_perc_LD_Prox_ER= mean(Neighbors_FirstClosestDistance_ER_Adjacent),\n",
    "## mean_perc_LD_Prox_LS= mean(Neighbors_FirstClosestDistance_LS_Adjacent),\n",
    "# mean_perc_LD_Prox_PO= mean(Neighbors_FirstClosestDistance_PO_Adjacent),\n",
    "# mean_perc_LD_Prox_MT= mean(Neighbors_FirstClosestDistance_MT_Adjacent),\n",
    "# mean_perc_LD_Prox_GL= mean(Neighbors_FirstClosestDistance_GL_Adjacent))\n",
    "\n",
    "\n",
    "# unordered_LS_neighbor <- doesntLS %>% add_column(mean_perc_LS_bdry_GL = NA, mean_perc_LS_bdry_PO = NA, mean_perc_LS_bdry_MT = NA, mean_perc_LS_bdry_ER = NA)%>% rbind(incomplete_LS_neighbor)\n",
    "# LS_neighbor <- unordered_LS_neighbor[with(unordered_LS_neighbor, order(ImageNumber)),]"
   ]
  },
  {
   "cell_type": "code",
   "execution_count": null,
   "id": "9b9433af",
   "metadata": {},
   "outputs": [],
   "source": []
  },
  {
   "cell_type": "code",
   "execution_count": 31,
   "id": "3c7bc09d",
   "metadata": {},
   "outputs": [
    {
     "data": {
      "text/html": [
       "<table class=\"dataframe\">\n",
       "<caption>A data.frame: 3 × 9</caption>\n",
       "<thead>\n",
       "\t<tr><th scope=col>ImageNumber</th><th scope=col>CY_pixel_area</th><th scope=col>SO_pixel_area</th><th scope=col>NU_pixel_area</th><th scope=col>GL_count</th><th scope=col>LS_count</th><th scope=col>PO_count</th><th scope=col>MT_count</th><th scope=col>LD_count</th></tr>\n",
       "\t<tr><th scope=col>&lt;int&gt;</th><th scope=col>&lt;dbl&gt;</th><th scope=col>&lt;dbl&gt;</th><th scope=col>&lt;dbl&gt;</th><th scope=col>&lt;dbl&gt;</th><th scope=col>&lt;dbl&gt;</th><th scope=col>&lt;dbl&gt;</th><th scope=col>&lt;dbl&gt;</th><th scope=col>&lt;dbl&gt;</th></tr>\n",
       "</thead>\n",
       "<tbody>\n",
       "\t<tr><td>1</td><td>36844</td><td>60182</td><td>26286</td><td>0</td><td>23</td><td>3</td><td>4</td><td> 12</td></tr>\n",
       "\t<tr><td>2</td><td>65142</td><td>91048</td><td>29469</td><td>2</td><td>25</td><td>4</td><td>8</td><td>107</td></tr>\n",
       "\t<tr><td>3</td><td>    0</td><td>    0</td><td>    0</td><td>0</td><td> 5</td><td>8</td><td>3</td><td>  0</td></tr>\n",
       "</tbody>\n",
       "</table>\n"
      ],
      "text/latex": [
       "A data.frame: 3 × 9\n",
       "\\begin{tabular}{lllllllll}\n",
       " ImageNumber & CY\\_pixel\\_area & SO\\_pixel\\_area & NU\\_pixel\\_area & GL\\_count & LS\\_count & PO\\_count & MT\\_count & LD\\_count\\\\\n",
       " <int> & <dbl> & <dbl> & <dbl> & <dbl> & <dbl> & <dbl> & <dbl> & <dbl>\\\\\n",
       "\\hline\n",
       "\t 1 & 36844 & 60182 & 26286 & 0 & 23 & 3 & 4 &  12\\\\\n",
       "\t 2 & 65142 & 91048 & 29469 & 2 & 25 & 4 & 8 & 107\\\\\n",
       "\t 3 &     0 &     0 &     0 & 0 &  5 & 8 & 3 &   0\\\\\n",
       "\\end{tabular}\n"
      ],
      "text/markdown": [
       "\n",
       "A data.frame: 3 × 9\n",
       "\n",
       "| ImageNumber &lt;int&gt; | CY_pixel_area &lt;dbl&gt; | SO_pixel_area &lt;dbl&gt; | NU_pixel_area &lt;dbl&gt; | GL_count &lt;dbl&gt; | LS_count &lt;dbl&gt; | PO_count &lt;dbl&gt; | MT_count &lt;dbl&gt; | LD_count &lt;dbl&gt; |\n",
       "|---|---|---|---|---|---|---|---|---|\n",
       "| 1 | 36844 | 60182 | 26286 | 0 | 23 | 3 | 4 |  12 |\n",
       "| 2 | 65142 | 91048 | 29469 | 2 | 25 | 4 | 8 | 107 |\n",
       "| 3 |     0 |     0 |     0 | 0 |  5 | 8 | 3 |   0 |\n",
       "\n"
      ],
      "text/plain": [
       "  ImageNumber CY_pixel_area SO_pixel_area NU_pixel_area GL_count LS_count\n",
       "1 1           36844         60182         26286         0        23      \n",
       "2 2           65142         91048         29469         2        25      \n",
       "3 3               0             0             0         0         5      \n",
       "  PO_count MT_count LD_count\n",
       "1 3        4         12     \n",
       "2 4        8        107     \n",
       "3 8        3          0     "
      ]
     },
     "metadata": {},
     "output_type": "display_data"
    }
   ],
   "source": [
    "#Selecting metadata and additional data (cell and organelle size, organelle counts, and contact overlap metrics) from Image file:\n",
    "#image_meta <- `MCZ_hiPSCs_CellP2D_05192022_Image.csv` %>% \n",
    "#  select(Metadata_SampleName,\tMetadata_Day, ImageNumber)\t\n",
    "area_counts <- `CellP2Dv1wNU03202022_Image.csv` %>% summarize(ImageNumber = ImageNumber, CY_pixel_area = AreaOccupied_AreaOccupied_CY, SO_pixel_area = AreaOccupied_AreaOccupied_SO, NU_pixel_area = AreaOccupied_AreaOccupied_NU, GL_count = Count_GL, LS_count = Count_LS, PO_count = Count_PO, MT_count = Count_MT, LD_count = Count_LD)\n",
    "area_counts"
   ]
  },
  {
   "cell_type": "code",
   "execution_count": 27,
   "id": "crude-mixer",
   "metadata": {},
   "outputs": [
    {
     "ename": "ERROR",
     "evalue": "\u001b[1m\u001b[33mError\u001b[39m in \u001b[1m\u001b[1m`summarise()`:\u001b[22m\n\u001b[1m\u001b[22m\u001b[33m!\u001b[39m Problem while computing `ImageName = FileName_SomaGreyScale`.\n\u001b[1mCaused by error:\u001b[22m\n\u001b[33m!\u001b[39m object 'FileName_SomaGreyScale' not found\n",
     "output_type": "error",
     "traceback": [
      "\u001b[1m\u001b[33mError\u001b[39m in \u001b[1m\u001b[1m`summarise()`:\u001b[22m\n\u001b[1m\u001b[22m\u001b[33m!\u001b[39m Problem while computing `ImageName = FileName_SomaGreyScale`.\n\u001b[1mCaused by error:\u001b[22m\n\u001b[33m!\u001b[39m object 'FileName_SomaGreyScale' not found\nTraceback:\n",
      "1. CellP2Dv1wNU03202022_Image.csv %>% summarise(ImageNumber = ImageNumber, \n .     group = Metadata_SampleName, ImageName = FileName_SomaGreyScale)",
      "2. summarise(., ImageNumber = ImageNumber, group = Metadata_SampleName, \n .     ImageName = FileName_SomaGreyScale)",
      "3. summarise.data.frame(., ImageNumber = ImageNumber, group = Metadata_SampleName, \n .     ImageName = FileName_SomaGreyScale)",
      "4. summarise_cols(.data, dplyr_quosures(...), caller_env = caller_env())",
      "5. withCallingHandlers({\n .     for (i in seq_along(dots)) {\n .         context_poke(\"column\", old_current_column)\n .         quosures <- expand_across(dots[[i]])\n .         quosures_results <- map(quosures, summarise_eval_one, \n .             mask = mask)\n .         for (k in seq_along(quosures)) {\n .             quo <- quosures[[k]]\n .             quo_data <- attr(quo, \"dplyr:::data\")\n .             quo_result <- quosures_results[[k]]\n .             if (is.null(quo_result)) {\n .                 next\n .             }\n .             types_k <- quo_result$types\n .             chunks_k <- quo_result$chunks\n .             results_k <- quo_result$results\n .             if (!quo_data$is_named && is.data.frame(types_k)) {\n .                 chunks_extracted <- .Call(dplyr_extract_chunks, \n .                   chunks_k, types_k)\n .                 types_k_names <- names(types_k)\n .                 for (j in seq_along(chunks_extracted)) {\n .                   mask$add_one(name = types_k_names[j], chunks = chunks_extracted[[j]], \n .                     result = results_k[[j]])\n .                 }\n .                 chunks <- append(chunks, chunks_extracted)\n .                 types <- append(types, as.list(types_k))\n .                 results <- append(results, results_k)\n .                 out_names <- c(out_names, types_k_names)\n .             }\n .             else {\n .                 name <- quo_data$name_auto\n .                 mask$add_one(name = name, chunks = chunks_k, \n .                   result = results_k)\n .                 chunks <- append(chunks, list(chunks_k))\n .                 types <- append(types, list(types_k))\n .                 results <- append(results, list(results_k))\n .                 out_names <- c(out_names, name)\n .             }\n .         }\n .     }\n .     recycle_info <- .Call(dplyr_summarise_recycle_chunks, chunks, \n .         mask$get_rows(), types, results)\n .     chunks <- recycle_info$chunks\n .     sizes <- recycle_info$sizes\n .     results <- recycle_info$results\n .     for (i in seq_along(chunks)) {\n .         result <- results[[i]] %||% vec_c(!!!chunks[[i]], .ptype = types[[i]])\n .         cols[[out_names[i]]] <- result\n .     }\n . }, error = function(e) {\n .     what <- \"computing\"\n .     index <- i\n .     if (inherits(e, \"dplyr:::summarise_incompatible_size\")) {\n .         index <- e$dplyr_error_data$index\n .         what <- \"recycling\"\n .     }\n .     local_error_context(dots = dots, .index = index, mask = mask)\n .     bullets <- c(cnd_bullet_header(what), summarise_bullets(e))\n .     abort(bullets, call = error_call, parent = skip_internal_condition(e))\n . })",
      "6. map(quosures, summarise_eval_one, mask = mask)",
      "7. lapply(.x, .f, ...)",
      "8. FUN(X[[i]], ...)",
      "9. mask$eval_all_summarise(quo)",
      "10. .handleSimpleError(function (e) \n  . {\n  .     what <- \"computing\"\n  .     index <- i\n  .     if (inherits(e, \"dplyr:::summarise_incompatible_size\")) {\n  .         index <- e$dplyr_error_data$index\n  .         what <- \"recycling\"\n  .     }\n  .     local_error_context(dots = dots, .index = index, mask = mask)\n  .     bullets <- c(cnd_bullet_header(what), summarise_bullets(e))\n  .     abort(bullets, call = error_call, parent = skip_internal_condition(e))\n  . }, \"object 'FileName_SomaGreyScale' not found\", base::quote(mask$eval_all_summarise(quo)))",
      "11. h(simpleError(msg, call))",
      "12. abort(bullets, call = error_call, parent = skip_internal_condition(e))",
      "13. signal_abort(cnd, .file)"
     ]
    }
   ],
   "source": [
    "meta <- `CellP2Dv1wNU03202022_Image.csv` %>% \n",
    "  summarise(ImageNumber = ImageNumber, group = Metadata_SampleName, ImageName = FileName_SomaGreyScale)\n",
    "\n",
    "organelle_overlap <- `CellP2Dv1wNU03202022_Image.csv` %>%\n",
    "summarise(ImageNumber = ImageNumber, pixel_area_GL_ER = AreaOccupied_AreaOccupied_GL_ER, pixel_area_LS_ER = AreaOccupied_AreaOccupied_LS_ER, pixel_area_MT_ER = AreaOccupied_AreaOccupied_MT_ER, pixel_area_PO_ER = AreaOccupied_AreaOccupied_PO_ER, pixel_area_PO_LD = AreaOccupied_AreaOccupied_PO_LD, pixel_area_LS_GL = AreaOccupied_AreaOccupied_LS_GL, pixel_area_LS_LD = AreaOccupied_AreaOccupied_LS_LD, pixel_area_MT_GL = AreaOccupied_AreaOccupied_MT_GL, pixel_area_MT_LD = AreaOccupied_AreaOccupied_MT_LD, pixel_area_GL_PO = AreaOccupied_AreaOccupied_GL_PO, pixel_area_LS_MT = AreaOccupied_AreaOccupied_LS_MT, pixel_area_LS_PO = AreaOccupied_AreaOccupied_LS_PO, pixel_area_MT_PO = AreaOccupied_AreaOccupied_MT_PO, pixel_area_ER_LD = AreaOccupied_AreaOccupied_ER_LD, Count_GL_ER = Count_GL_ER, Count_LS_ER = Count_LS_ER, Count_MT_ER = Count_MT_ER, Count_PO_ER = Count_PO_ER, Count_LS_GL = Count_LS_GL, Count_MT_GL = Count_MT_GL, Count_GL_PO = Count_GL_PO, Count_LS_MT = Count_LS_MT, Count_LS_PO = Count_LS_PO, Count_MT_PO = Count_MT_PO, Count_MT_LD = Count_MT_LD, Count_LS_LD = Count_LS_LD, Count_PO_LD = Count_PO_LD,  Count_ER_LD = Count_ER_LD)\n",
    "\n",
    "#Distribution organelle grouped into Peri-Nuclear, Periphery, Peri-Plasmamembrane:\n",
    "SO <- `CellP2Dv1wNU03202022_SO.csv` %>% summarise(ImageNumber = ImageNumber, SO_ecty = AreaShape_Eccentricity)"
   ]
  },
  {
   "cell_type": "code",
   "execution_count": 32,
   "id": "caroline-vegetation",
   "metadata": {},
   "outputs": [
    {
     "ename": "ERROR",
     "evalue": "\u001b[1m\u001b[33mError\u001b[39m in \u001b[1m\u001b[1m`summarise()`:\u001b[22m\n\u001b[1m\u001b[22m\u001b[33m!\u001b[39m Problem while computing `ER_FAD_bin_1 =\n  RadialDistribution_FracAtD_ER_conv_1of9`.\n\u001b[1mCaused by error:\u001b[22m\n\u001b[33m!\u001b[39m object 'RadialDistribution_FracAtD_ER_conv_1of9' not found\n",
     "output_type": "error",
     "traceback": [
      "\u001b[1m\u001b[33mError\u001b[39m in \u001b[1m\u001b[1m`summarise()`:\u001b[22m\n\u001b[1m\u001b[22m\u001b[33m!\u001b[39m Problem while computing `ER_FAD_bin_1 =\n  RadialDistribution_FracAtD_ER_conv_1of9`.\n\u001b[1mCaused by error:\u001b[22m\n\u001b[33m!\u001b[39m object 'RadialDistribution_FracAtD_ER_conv_1of9' not found\nTraceback:\n",
      "1. CellP2Dv1wNU03202022_SO.csv %>% summarise(ER_FAD_bin_1 = RadialDistribution_FracAtD_ER_conv_1of9, \n .     ER_FAD_bin_2 = RadialDistribution_FracAtD_ER_conv_2of9, ER_FAD_bin_3 = RadialDistribution_FracAtD_ER_conv_3of9, \n .     ER_FAD_bin_4 = RadialDistribution_FracAtD_ER_conv_4of9, ER_FAD_bin_5 = RadialDistribution_FracAtD_ER_conv_5of9, \n .     ER_FAD_bin_6 = RadialDistribution_FracAtD_ER_conv_6of9, ER_FAD_bin_7 = RadialDistribution_FracAtD_ER_conv_7of9, \n .     ER_FAD_bin_8 = RadialDistribution_FracAtD_ER_conv_8of9, ER_FAD_bin_9 = RadialDistribution_FracAtD_ER_conv_9of9, \n .     GL_FAD_bin_1 = RadialDistribution_FracAtD_GL_conv_1of9, GL_FAD_bin_2 = RadialDistribution_FracAtD_GL_conv_2of9, \n .     GL_FAD_bin_3 = RadialDistribution_FracAtD_GL_conv_3of9, GL_FAD_bin_4 = RadialDistribution_FracAtD_GL_conv_4of9, \n .     GL_FAD_bin_5 = RadialDistribution_FracAtD_GL_conv_5of9, GL_FAD_bin_6 = RadialDistribution_FracAtD_GL_conv_6of9, \n .     GL_FAD_bin_7 = RadialDistribution_FracAtD_GL_conv_7of9, GL_FAD_bin_8 = RadialDistribution_FracAtD_GL_conv_8of9, \n .     GL_FAD_bin_9 = RadialDistribution_FracAtD_GL_conv_9of9, LS_FAD_bin_1 = RadialDistribution_FracAtD_LS_conv_1of9, \n .     LS_FAD_bin_2 = RadialDistribution_FracAtD_LS_conv_2of9, LS_FAD_bin_3 = RadialDistribution_FracAtD_LS_conv_3of9, \n .     LS_FAD_bin_4 = RadialDistribution_FracAtD_LS_conv_4of9, LS_FAD_bin_5 = RadialDistribution_FracAtD_LS_conv_5of9, \n .     LS_FAD_bin_6 = RadialDistribution_FracAtD_LS_conv_6of9, LS_FAD_bin_7 = RadialDistribution_FracAtD_LS_conv_7of9, \n .     LS_FAD_bin_8 = RadialDistribution_FracAtD_LS_conv_8of9, LS_FAD_bin_9 = RadialDistribution_FracAtD_LS_conv_9of9, \n .     MT_FAD_bin_1 = RadialDistribution_FracAtD_MT_conv_1of9, MT_FAD_bin_2 = RadialDistribution_FracAtD_MT_conv_2of9, \n .     MT_FAD_bin_3 = RadialDistribution_FracAtD_MT_conv_3of9, MT_FAD_bin_4 = RadialDistribution_FracAtD_MT_conv_4of9, \n .     MT_FAD_bin_5 = RadialDistribution_FracAtD_MT_conv_5of9, MT_FAD_bin_6 = RadialDistribution_FracAtD_MT_conv_6of9, \n .     MT_FAD_bin_7 = RadialDistribution_FracAtD_MT_conv_7of9, MT_FAD_bin_8 = RadialDistribution_FracAtD_MT_conv_8of9, \n .     MT_FAD_bin_9 = RadialDistribution_FracAtD_MT_conv_9of9, PO_FAD_bin_1 = RadialDistribution_FracAtD_PO_conv_1of9, \n .     PO_FAD_bin_2 = RadialDistribution_FracAtD_PO_conv_2of9, PO_FAD_bin_3 = RadialDistribution_FracAtD_PO_conv_3of9, \n .     PO_FAD_bin_4 = RadialDistribution_FracAtD_PO_conv_4of9, PO_FAD_bin_5 = RadialDistribution_FracAtD_PO_conv_5of9, \n .     PO_FAD_bin_6 = RadialDistribution_FracAtD_PO_conv_6of9, PO_FAD_bin_7 = RadialDistribution_FracAtD_PO_conv_7of9, \n .     PO_FAD_bin_8 = RadialDistribution_FracAtD_PO_conv_8of9, PO_FAD_bin_9 = RadialDistribution_FracAtD_PO_conv_9of9, \n .     LD_FAD_bin_1 = RadialDistribution_FracAtD_LD_conv_1of9, LD_FAD_bin_2 = RadialDistribution_FracAtD_LD_conv_2of9, \n .     LD_FAD_bin_3 = RadialDistribution_FracAtD_LD_conv_3of9, LD_FAD_bin_4 = RadialDistribution_FracAtD_LD_conv_4of9, \n .     LD_FAD_bin_5 = RadialDistribution_FracAtD_LD_conv_5of9, LD_FAD_bin_6 = RadialDistribution_FracAtD_LD_conv_6of9, \n .     LD_FAD_bin_7 = RadialDistribution_FracAtD_LD_conv_7of9, LD_FAD_bin_8 = RadialDistribution_FracAtD_LD_conv_8of9, \n .     LD_FAD_bin_9 = RadialDistribution_FracAtD_LD_conv_9of9)",
      "2. summarise(., ER_FAD_bin_1 = RadialDistribution_FracAtD_ER_conv_1of9, \n .     ER_FAD_bin_2 = RadialDistribution_FracAtD_ER_conv_2of9, ER_FAD_bin_3 = RadialDistribution_FracAtD_ER_conv_3of9, \n .     ER_FAD_bin_4 = RadialDistribution_FracAtD_ER_conv_4of9, ER_FAD_bin_5 = RadialDistribution_FracAtD_ER_conv_5of9, \n .     ER_FAD_bin_6 = RadialDistribution_FracAtD_ER_conv_6of9, ER_FAD_bin_7 = RadialDistribution_FracAtD_ER_conv_7of9, \n .     ER_FAD_bin_8 = RadialDistribution_FracAtD_ER_conv_8of9, ER_FAD_bin_9 = RadialDistribution_FracAtD_ER_conv_9of9, \n .     GL_FAD_bin_1 = RadialDistribution_FracAtD_GL_conv_1of9, GL_FAD_bin_2 = RadialDistribution_FracAtD_GL_conv_2of9, \n .     GL_FAD_bin_3 = RadialDistribution_FracAtD_GL_conv_3of9, GL_FAD_bin_4 = RadialDistribution_FracAtD_GL_conv_4of9, \n .     GL_FAD_bin_5 = RadialDistribution_FracAtD_GL_conv_5of9, GL_FAD_bin_6 = RadialDistribution_FracAtD_GL_conv_6of9, \n .     GL_FAD_bin_7 = RadialDistribution_FracAtD_GL_conv_7of9, GL_FAD_bin_8 = RadialDistribution_FracAtD_GL_conv_8of9, \n .     GL_FAD_bin_9 = RadialDistribution_FracAtD_GL_conv_9of9, LS_FAD_bin_1 = RadialDistribution_FracAtD_LS_conv_1of9, \n .     LS_FAD_bin_2 = RadialDistribution_FracAtD_LS_conv_2of9, LS_FAD_bin_3 = RadialDistribution_FracAtD_LS_conv_3of9, \n .     LS_FAD_bin_4 = RadialDistribution_FracAtD_LS_conv_4of9, LS_FAD_bin_5 = RadialDistribution_FracAtD_LS_conv_5of9, \n .     LS_FAD_bin_6 = RadialDistribution_FracAtD_LS_conv_6of9, LS_FAD_bin_7 = RadialDistribution_FracAtD_LS_conv_7of9, \n .     LS_FAD_bin_8 = RadialDistribution_FracAtD_LS_conv_8of9, LS_FAD_bin_9 = RadialDistribution_FracAtD_LS_conv_9of9, \n .     MT_FAD_bin_1 = RadialDistribution_FracAtD_MT_conv_1of9, MT_FAD_bin_2 = RadialDistribution_FracAtD_MT_conv_2of9, \n .     MT_FAD_bin_3 = RadialDistribution_FracAtD_MT_conv_3of9, MT_FAD_bin_4 = RadialDistribution_FracAtD_MT_conv_4of9, \n .     MT_FAD_bin_5 = RadialDistribution_FracAtD_MT_conv_5of9, MT_FAD_bin_6 = RadialDistribution_FracAtD_MT_conv_6of9, \n .     MT_FAD_bin_7 = RadialDistribution_FracAtD_MT_conv_7of9, MT_FAD_bin_8 = RadialDistribution_FracAtD_MT_conv_8of9, \n .     MT_FAD_bin_9 = RadialDistribution_FracAtD_MT_conv_9of9, PO_FAD_bin_1 = RadialDistribution_FracAtD_PO_conv_1of9, \n .     PO_FAD_bin_2 = RadialDistribution_FracAtD_PO_conv_2of9, PO_FAD_bin_3 = RadialDistribution_FracAtD_PO_conv_3of9, \n .     PO_FAD_bin_4 = RadialDistribution_FracAtD_PO_conv_4of9, PO_FAD_bin_5 = RadialDistribution_FracAtD_PO_conv_5of9, \n .     PO_FAD_bin_6 = RadialDistribution_FracAtD_PO_conv_6of9, PO_FAD_bin_7 = RadialDistribution_FracAtD_PO_conv_7of9, \n .     PO_FAD_bin_8 = RadialDistribution_FracAtD_PO_conv_8of9, PO_FAD_bin_9 = RadialDistribution_FracAtD_PO_conv_9of9, \n .     LD_FAD_bin_1 = RadialDistribution_FracAtD_LD_conv_1of9, LD_FAD_bin_2 = RadialDistribution_FracAtD_LD_conv_2of9, \n .     LD_FAD_bin_3 = RadialDistribution_FracAtD_LD_conv_3of9, LD_FAD_bin_4 = RadialDistribution_FracAtD_LD_conv_4of9, \n .     LD_FAD_bin_5 = RadialDistribution_FracAtD_LD_conv_5of9, LD_FAD_bin_6 = RadialDistribution_FracAtD_LD_conv_6of9, \n .     LD_FAD_bin_7 = RadialDistribution_FracAtD_LD_conv_7of9, LD_FAD_bin_8 = RadialDistribution_FracAtD_LD_conv_8of9, \n .     LD_FAD_bin_9 = RadialDistribution_FracAtD_LD_conv_9of9)",
      "3. summarise.data.frame(., ER_FAD_bin_1 = RadialDistribution_FracAtD_ER_conv_1of9, \n .     ER_FAD_bin_2 = RadialDistribution_FracAtD_ER_conv_2of9, ER_FAD_bin_3 = RadialDistribution_FracAtD_ER_conv_3of9, \n .     ER_FAD_bin_4 = RadialDistribution_FracAtD_ER_conv_4of9, ER_FAD_bin_5 = RadialDistribution_FracAtD_ER_conv_5of9, \n .     ER_FAD_bin_6 = RadialDistribution_FracAtD_ER_conv_6of9, ER_FAD_bin_7 = RadialDistribution_FracAtD_ER_conv_7of9, \n .     ER_FAD_bin_8 = RadialDistribution_FracAtD_ER_conv_8of9, ER_FAD_bin_9 = RadialDistribution_FracAtD_ER_conv_9of9, \n .     GL_FAD_bin_1 = RadialDistribution_FracAtD_GL_conv_1of9, GL_FAD_bin_2 = RadialDistribution_FracAtD_GL_conv_2of9, \n .     GL_FAD_bin_3 = RadialDistribution_FracAtD_GL_conv_3of9, GL_FAD_bin_4 = RadialDistribution_FracAtD_GL_conv_4of9, \n .     GL_FAD_bin_5 = RadialDistribution_FracAtD_GL_conv_5of9, GL_FAD_bin_6 = RadialDistribution_FracAtD_GL_conv_6of9, \n .     GL_FAD_bin_7 = RadialDistribution_FracAtD_GL_conv_7of9, GL_FAD_bin_8 = RadialDistribution_FracAtD_GL_conv_8of9, \n .     GL_FAD_bin_9 = RadialDistribution_FracAtD_GL_conv_9of9, LS_FAD_bin_1 = RadialDistribution_FracAtD_LS_conv_1of9, \n .     LS_FAD_bin_2 = RadialDistribution_FracAtD_LS_conv_2of9, LS_FAD_bin_3 = RadialDistribution_FracAtD_LS_conv_3of9, \n .     LS_FAD_bin_4 = RadialDistribution_FracAtD_LS_conv_4of9, LS_FAD_bin_5 = RadialDistribution_FracAtD_LS_conv_5of9, \n .     LS_FAD_bin_6 = RadialDistribution_FracAtD_LS_conv_6of9, LS_FAD_bin_7 = RadialDistribution_FracAtD_LS_conv_7of9, \n .     LS_FAD_bin_8 = RadialDistribution_FracAtD_LS_conv_8of9, LS_FAD_bin_9 = RadialDistribution_FracAtD_LS_conv_9of9, \n .     MT_FAD_bin_1 = RadialDistribution_FracAtD_MT_conv_1of9, MT_FAD_bin_2 = RadialDistribution_FracAtD_MT_conv_2of9, \n .     MT_FAD_bin_3 = RadialDistribution_FracAtD_MT_conv_3of9, MT_FAD_bin_4 = RadialDistribution_FracAtD_MT_conv_4of9, \n .     MT_FAD_bin_5 = RadialDistribution_FracAtD_MT_conv_5of9, MT_FAD_bin_6 = RadialDistribution_FracAtD_MT_conv_6of9, \n .     MT_FAD_bin_7 = RadialDistribution_FracAtD_MT_conv_7of9, MT_FAD_bin_8 = RadialDistribution_FracAtD_MT_conv_8of9, \n .     MT_FAD_bin_9 = RadialDistribution_FracAtD_MT_conv_9of9, PO_FAD_bin_1 = RadialDistribution_FracAtD_PO_conv_1of9, \n .     PO_FAD_bin_2 = RadialDistribution_FracAtD_PO_conv_2of9, PO_FAD_bin_3 = RadialDistribution_FracAtD_PO_conv_3of9, \n .     PO_FAD_bin_4 = RadialDistribution_FracAtD_PO_conv_4of9, PO_FAD_bin_5 = RadialDistribution_FracAtD_PO_conv_5of9, \n .     PO_FAD_bin_6 = RadialDistribution_FracAtD_PO_conv_6of9, PO_FAD_bin_7 = RadialDistribution_FracAtD_PO_conv_7of9, \n .     PO_FAD_bin_8 = RadialDistribution_FracAtD_PO_conv_8of9, PO_FAD_bin_9 = RadialDistribution_FracAtD_PO_conv_9of9, \n .     LD_FAD_bin_1 = RadialDistribution_FracAtD_LD_conv_1of9, LD_FAD_bin_2 = RadialDistribution_FracAtD_LD_conv_2of9, \n .     LD_FAD_bin_3 = RadialDistribution_FracAtD_LD_conv_3of9, LD_FAD_bin_4 = RadialDistribution_FracAtD_LD_conv_4of9, \n .     LD_FAD_bin_5 = RadialDistribution_FracAtD_LD_conv_5of9, LD_FAD_bin_6 = RadialDistribution_FracAtD_LD_conv_6of9, \n .     LD_FAD_bin_7 = RadialDistribution_FracAtD_LD_conv_7of9, LD_FAD_bin_8 = RadialDistribution_FracAtD_LD_conv_8of9, \n .     LD_FAD_bin_9 = RadialDistribution_FracAtD_LD_conv_9of9)",
      "4. summarise_cols(.data, dplyr_quosures(...), caller_env = caller_env())",
      "5. withCallingHandlers({\n .     for (i in seq_along(dots)) {\n .         context_poke(\"column\", old_current_column)\n .         quosures <- expand_across(dots[[i]])\n .         quosures_results <- map(quosures, summarise_eval_one, \n .             mask = mask)\n .         for (k in seq_along(quosures)) {\n .             quo <- quosures[[k]]\n .             quo_data <- attr(quo, \"dplyr:::data\")\n .             quo_result <- quosures_results[[k]]\n .             if (is.null(quo_result)) {\n .                 next\n .             }\n .             types_k <- quo_result$types\n .             chunks_k <- quo_result$chunks\n .             results_k <- quo_result$results\n .             if (!quo_data$is_named && is.data.frame(types_k)) {\n .                 chunks_extracted <- .Call(dplyr_extract_chunks, \n .                   chunks_k, types_k)\n .                 types_k_names <- names(types_k)\n .                 for (j in seq_along(chunks_extracted)) {\n .                   mask$add_one(name = types_k_names[j], chunks = chunks_extracted[[j]], \n .                     result = results_k[[j]])\n .                 }\n .                 chunks <- append(chunks, chunks_extracted)\n .                 types <- append(types, as.list(types_k))\n .                 results <- append(results, results_k)\n .                 out_names <- c(out_names, types_k_names)\n .             }\n .             else {\n .                 name <- quo_data$name_auto\n .                 mask$add_one(name = name, chunks = chunks_k, \n .                   result = results_k)\n .                 chunks <- append(chunks, list(chunks_k))\n .                 types <- append(types, list(types_k))\n .                 results <- append(results, list(results_k))\n .                 out_names <- c(out_names, name)\n .             }\n .         }\n .     }\n .     recycle_info <- .Call(dplyr_summarise_recycle_chunks, chunks, \n .         mask$get_rows(), types, results)\n .     chunks <- recycle_info$chunks\n .     sizes <- recycle_info$sizes\n .     results <- recycle_info$results\n .     for (i in seq_along(chunks)) {\n .         result <- results[[i]] %||% vec_c(!!!chunks[[i]], .ptype = types[[i]])\n .         cols[[out_names[i]]] <- result\n .     }\n . }, error = function(e) {\n .     what <- \"computing\"\n .     index <- i\n .     if (inherits(e, \"dplyr:::summarise_incompatible_size\")) {\n .         index <- e$dplyr_error_data$index\n .         what <- \"recycling\"\n .     }\n .     local_error_context(dots = dots, .index = index, mask = mask)\n .     bullets <- c(cnd_bullet_header(what), summarise_bullets(e))\n .     abort(bullets, call = error_call, parent = skip_internal_condition(e))\n . })",
      "6. map(quosures, summarise_eval_one, mask = mask)",
      "7. lapply(.x, .f, ...)",
      "8. FUN(X[[i]], ...)",
      "9. mask$eval_all_summarise(quo)",
      "10. .handleSimpleError(function (e) \n  . {\n  .     what <- \"computing\"\n  .     index <- i\n  .     if (inherits(e, \"dplyr:::summarise_incompatible_size\")) {\n  .         index <- e$dplyr_error_data$index\n  .         what <- \"recycling\"\n  .     }\n  .     local_error_context(dots = dots, .index = index, mask = mask)\n  .     bullets <- c(cnd_bullet_header(what), summarise_bullets(e))\n  .     abort(bullets, call = error_call, parent = skip_internal_condition(e))\n  . }, \"object 'RadialDistribution_FracAtD_ER_conv_1of9' not found\", \n  .     base::quote(mask$eval_all_summarise(quo)))",
      "11. h(simpleError(msg, call))",
      "12. abort(bullets, call = error_call, parent = skip_internal_condition(e))",
      "13. signal_abort(cnd, .file)"
     ]
    }
   ],
   "source": [
    "#Distribution Organelle raw:\n",
    "Distribution_DataRaw <- `CellP2Dv1wNU03202022_SO.csv` %>% \n",
    "  summarise(ER_FAD_bin_1 = RadialDistribution_FracAtD_ER_conv_1of9, ER_FAD_bin_2 = RadialDistribution_FracAtD_ER_conv_2of9,\n",
    "            ER_FAD_bin_3 = RadialDistribution_FracAtD_ER_conv_3of9, ER_FAD_bin_4 = RadialDistribution_FracAtD_ER_conv_4of9,\n",
    "            ER_FAD_bin_5 = RadialDistribution_FracAtD_ER_conv_5of9, ER_FAD_bin_6 = RadialDistribution_FracAtD_ER_conv_6of9,\n",
    "            ER_FAD_bin_7 = RadialDistribution_FracAtD_ER_conv_7of9, ER_FAD_bin_8 = RadialDistribution_FracAtD_ER_conv_8of9,\n",
    "            ER_FAD_bin_9 = RadialDistribution_FracAtD_ER_conv_9of9, GL_FAD_bin_1 = RadialDistribution_FracAtD_GL_conv_1of9,\n",
    "            GL_FAD_bin_2 = RadialDistribution_FracAtD_GL_conv_2of9, GL_FAD_bin_3 = RadialDistribution_FracAtD_GL_conv_3of9,\n",
    "            GL_FAD_bin_4 = RadialDistribution_FracAtD_GL_conv_4of9, GL_FAD_bin_5 = RadialDistribution_FracAtD_GL_conv_5of9,\n",
    "            GL_FAD_bin_6 = RadialDistribution_FracAtD_GL_conv_6of9, GL_FAD_bin_7 = RadialDistribution_FracAtD_GL_conv_7of9,\n",
    "            GL_FAD_bin_8 = RadialDistribution_FracAtD_GL_conv_8of9, GL_FAD_bin_9 = RadialDistribution_FracAtD_GL_conv_9of9,\n",
    "            LS_FAD_bin_1 = RadialDistribution_FracAtD_LS_conv_1of9, LS_FAD_bin_2 = RadialDistribution_FracAtD_LS_conv_2of9,\n",
    "            LS_FAD_bin_3 = RadialDistribution_FracAtD_LS_conv_3of9, LS_FAD_bin_4 = RadialDistribution_FracAtD_LS_conv_4of9,\n",
    "            LS_FAD_bin_5 = RadialDistribution_FracAtD_LS_conv_5of9, LS_FAD_bin_6 = RadialDistribution_FracAtD_LS_conv_6of9,\n",
    "            LS_FAD_bin_7 = RadialDistribution_FracAtD_LS_conv_7of9, LS_FAD_bin_8 = RadialDistribution_FracAtD_LS_conv_8of9,\n",
    "            LS_FAD_bin_9 = RadialDistribution_FracAtD_LS_conv_9of9, MT_FAD_bin_1 = RadialDistribution_FracAtD_MT_conv_1of9,\n",
    "            MT_FAD_bin_2 = RadialDistribution_FracAtD_MT_conv_2of9, MT_FAD_bin_3 = RadialDistribution_FracAtD_MT_conv_3of9,\n",
    "            MT_FAD_bin_4 = RadialDistribution_FracAtD_MT_conv_4of9, MT_FAD_bin_5 = RadialDistribution_FracAtD_MT_conv_5of9,\n",
    "            MT_FAD_bin_6 = RadialDistribution_FracAtD_MT_conv_6of9, MT_FAD_bin_7 = RadialDistribution_FracAtD_MT_conv_7of9,\n",
    "            MT_FAD_bin_8 = RadialDistribution_FracAtD_MT_conv_8of9, MT_FAD_bin_9 = RadialDistribution_FracAtD_MT_conv_9of9,\n",
    "            PO_FAD_bin_1 = RadialDistribution_FracAtD_PO_conv_1of9, PO_FAD_bin_2 = RadialDistribution_FracAtD_PO_conv_2of9,\n",
    "            PO_FAD_bin_3 = RadialDistribution_FracAtD_PO_conv_3of9, PO_FAD_bin_4 = RadialDistribution_FracAtD_PO_conv_4of9,\n",
    "            PO_FAD_bin_5 = RadialDistribution_FracAtD_PO_conv_5of9, PO_FAD_bin_6 = RadialDistribution_FracAtD_PO_conv_6of9,\n",
    "            PO_FAD_bin_7 = RadialDistribution_FracAtD_PO_conv_7of9, PO_FAD_bin_8 = RadialDistribution_FracAtD_PO_conv_8of9,\n",
    "            PO_FAD_bin_9 = RadialDistribution_FracAtD_PO_conv_9of9,\n",
    "            LD_FAD_bin_1 = RadialDistribution_FracAtD_LD_conv_1of9, LD_FAD_bin_2 = RadialDistribution_FracAtD_LD_conv_2of9,\n",
    "            LD_FAD_bin_3 = RadialDistribution_FracAtD_LD_conv_3of9, LD_FAD_bin_4 = RadialDistribution_FracAtD_LD_conv_4of9,\n",
    "            LD_FAD_bin_5 = RadialDistribution_FracAtD_LD_conv_5of9, LD_FAD_bin_6 = RadialDistribution_FracAtD_LD_conv_6of9,\n",
    "            LD_FAD_bin_7 = RadialDistribution_FracAtD_LD_conv_7of9, LD_FAD_bin_8 = RadialDistribution_FracAtD_LD_conv_8of9,\n",
    "            LD_FAD_bin_9 = RadialDistribution_FracAtD_LD_conv_9of9)\n",
    "\n",
    " "
   ]
  },
  {
   "cell_type": "code",
   "execution_count": null,
   "id": "desirable-leather",
   "metadata": {},
   "outputs": [],
   "source": [
    "Distribution_contacts_DataRaw <- `MCZ_hiPSCs_CellP2D_05192022_SO.csv` %>% \n",
    "  summarise (LS_ER_FAD_bin_1=RadialDistribution_FracAtD_LS_ER_conv_1of9,\n",
    "LS_ER_FAD_bin_2=RadialDistribution_FracAtD_LS_ER_conv_2of9,\n",
    "LS_ER_FAD_bin_3=RadialDistribution_FracAtD_LS_ER_conv_3of9,\n",
    "LS_ER_FAD_bin_4=RadialDistribution_FracAtD_LS_ER_conv_4of9,\n",
    "LS_ER_FAD_bin_5=RadialDistribution_FracAtD_LS_ER_conv_5of9,\n",
    "LS_ER_FAD_bin_6=RadialDistribution_FracAtD_LS_ER_conv_6of9,\n",
    "LS_ER_FAD_bin_7=RadialDistribution_FracAtD_LS_ER_conv_7of9,\n",
    "LS_ER_FAD_bin_8=RadialDistribution_FracAtD_LS_ER_conv_8of9,\n",
    "LS_ER_FAD_bin_9=RadialDistribution_FracAtD_LS_ER_conv_9of9,\n",
    "LS_LD_FAD_bin_2=RadialDistribution_FracAtD_LS_ER_conv_2of9,\n",
    "LS_LD_FAD_bin_3=RadialDistribution_FracAtD_LS_ER_conv_3of9,\n",
    "LS_LD_FAD_bin_4=RadialDistribution_FracAtD_LS_ER_conv_4of9,\n",
    "LS_LD_FAD_bin_5=RadialDistribution_FracAtD_LS_ER_conv_5of9,\n",
    "LS_LD_FAD_bin_6=RadialDistribution_FracAtD_LS_ER_conv_6of9,\n",
    "LS_LD_FAD_bin_7=RadialDistribution_FracAtD_LS_ER_conv_7of9,\n",
    "LS_LD_FAD_bin_8=RadialDistribution_FracAtD_LS_ER_conv_8of9,\n",
    "LS_LD_FAD_bin_9=RadialDistribution_FracAtD_LS_ER_conv_9of9,\n",
    "LS_GL_bin_1=RadialDistribution_FracAtD_LS_GL_conv_1of9,\n",
    "LS_GL_bin_2=RadialDistribution_FracAtD_LS_GL_conv_2of9,\n",
    "LS_GL_bin_3=RadialDistribution_FracAtD_LS_GL_conv_3of9,\n",
    "LS_GL_bin_4=RadialDistribution_FracAtD_LS_GL_conv_4of9,\n",
    "LS_GL_bin_5=RadialDistribution_FracAtD_LS_GL_conv_5of9,\n",
    "LS_GL_bin_6=RadialDistribution_FracAtD_LS_GL_conv_6of9,\n",
    "LS_GL_bin_7=RadialDistribution_FracAtD_LS_GL_conv_7of9,\n",
    "LS_GL_bin_8=RadialDistribution_FracAtD_LS_GL_conv_8of9,\n",
    "LS_GL_bin_9=RadialDistribution_FracAtD_LS_GL_conv_9of9,\n",
    "LS_MT_bin_1=RadialDistribution_FracAtD_LS_MT_conv_1of9,\n",
    "LS_MT_bin_2=RadialDistribution_FracAtD_LS_MT_conv_2of9,\n",
    "LS_MT_bin_3=RadialDistribution_FracAtD_LS_MT_conv_3of9,\n",
    "LS_MT_bin_4=RadialDistribution_FracAtD_LS_MT_conv_4of9,\n",
    "LS_MT_bin_5=RadialDistribution_FracAtD_LS_MT_conv_5of9,\n",
    "LS_MT_bin_6=RadialDistribution_FracAtD_LS_MT_conv_6of9,\n",
    "LS_MT_bin_7=RadialDistribution_FracAtD_LS_MT_conv_7of9,\n",
    "LS_MT_bin_8=RadialDistribution_FracAtD_LS_MT_conv_8of9,\n",
    "LS_MT_bin_9=RadialDistribution_FracAtD_LS_MT_conv_9of9,\n",
    "LS_PO_bin_1=RadialDistribution_FracAtD_LS_PO_conv_1of9,\n",
    "LS_PO_bin_2=RadialDistribution_FracAtD_LS_PO_conv_2of9,\n",
    "LS_PO_bin_3=RadialDistribution_FracAtD_LS_PO_conv_3of9,\n",
    "LS_PO_bin_4=RadialDistribution_FracAtD_LS_PO_conv_4of9,\n",
    "LS_PO_bin_5=RadialDistribution_FracAtD_LS_PO_conv_5of9,\n",
    "LS_PO_bin_6=RadialDistribution_FracAtD_LS_PO_conv_6of9,\n",
    "LS_PO_bin_7=RadialDistribution_FracAtD_LS_PO_conv_7of9,\n",
    "LS_PO_bin_8=RadialDistribution_FracAtD_LS_PO_conv_8of9,\n",
    "LS_PO_bin_9=RadialDistribution_FracAtD_LS_PO_conv_9of9,\n",
    "MT_ER_bin_1=RadialDistribution_FracAtD_MT_ER_conv_1of9,\n",
    "MT_ER_bin_2=RadialDistribution_FracAtD_MT_ER_conv_2of9,\n",
    "MT_ER_bin_3=RadialDistribution_FracAtD_MT_ER_conv_3of9,\n",
    "MT_ER_bin_4=RadialDistribution_FracAtD_MT_ER_conv_4of9,\n",
    "MT_ER_bin_5=RadialDistribution_FracAtD_MT_ER_conv_5of9,\n",
    "MT_ER_bin_6=RadialDistribution_FracAtD_MT_ER_conv_6of9,\n",
    "MT_ER_bin_7=RadialDistribution_FracAtD_MT_ER_conv_7of9,\n",
    "MT_ER_bin_8=RadialDistribution_FracAtD_MT_ER_conv_8of9,\n",
    "MT_LD_bin_1=RadialDistribution_FracAtD_MT_ER_conv_1of9,\n",
    "MT_LD_bin_2=RadialDistribution_FracAtD_MT_ER_conv_2of9,\n",
    "MT_LD_bin_3=RadialDistribution_FracAtD_MT_ER_conv_3of9,\n",
    "MT_LD_bin_4=RadialDistribution_FracAtD_MT_ER_conv_4of9,\n",
    "MT_LD_bin_5=RadialDistribution_FracAtD_MT_ER_conv_5of9,\n",
    "MT_LD_bin_6=RadialDistribution_FracAtD_MT_ER_conv_6of9,\n",
    "MT_LD_bin_7=RadialDistribution_FracAtD_MT_ER_conv_7of9,\n",
    "MT_LD_bin_8=RadialDistribution_FracAtD_MT_ER_conv_8of9,\n",
    "MT_LD_bin_9=RadialDistribution_FracAtD_MT_ER_conv_9of9,\n",
    "MT_GL_bin_1=RadialDistribution_FracAtD_MT_GL_conv_1of9,\n",
    "MT_GL_bin_2=RadialDistribution_FracAtD_MT_GL_conv_2of9,\n",
    "MT_GL_bin_3=RadialDistribution_FracAtD_MT_GL_conv_3of9,\n",
    "MT_GL_bin_4=RadialDistribution_FracAtD_MT_GL_conv_4of9,\n",
    "MT_GL_bin_5=RadialDistribution_FracAtD_MT_GL_conv_5of9,\n",
    "MT_GL_bin_6=RadialDistribution_FracAtD_MT_GL_conv_6of9,\n",
    "MT_GL_bin_7=RadialDistribution_FracAtD_MT_GL_conv_7of9,\n",
    "MT_GL_bin_8=RadialDistribution_FracAtD_MT_GL_conv_8of9,\n",
    "MT_GL_bin_9=RadialDistribution_FracAtD_MT_GL_conv_9of9,\n",
    "MT_PO_bin_1=RadialDistribution_FracAtD_MT_PO_conv_1of9,\n",
    "MT_PO_bin_2=RadialDistribution_FracAtD_MT_PO_conv_2of9,\n",
    "MT_PO_bin_3=RadialDistribution_FracAtD_MT_PO_conv_3of9,\n",
    "MT_PO_bin_4=RadialDistribution_FracAtD_MT_PO_conv_4of9,\n",
    "MT_PO_bin_5=RadialDistribution_FracAtD_MT_PO_conv_5of9,\n",
    "MT_PO_bin_6=RadialDistribution_FracAtD_MT_PO_conv_6of9,\n",
    "MT_PO_bin_7=RadialDistribution_FracAtD_MT_PO_conv_7of9,\n",
    "MT_PO_bin_8=RadialDistribution_FracAtD_MT_PO_conv_8of9,\n",
    "MT_PO_bin_9=RadialDistribution_FracAtD_MT_PO_conv_9of9,\n",
    "PO_ER_bin_1=RadialDistribution_FracAtD_PO_ER_conv_1of9,\n",
    "PO_ER_bin_2=RadialDistribution_FracAtD_PO_ER_conv_2of9,\n",
    "PO_ER_bin_3=RadialDistribution_FracAtD_PO_ER_conv_3of9,\n",
    "PO_ER_bin_4=RadialDistribution_FracAtD_PO_ER_conv_4of9,\n",
    "PO_ER_bin_5=RadialDistribution_FracAtD_PO_ER_conv_5of9,\n",
    "PO_ER_bin_6=RadialDistribution_FracAtD_PO_ER_conv_6of9,\n",
    "PO_ER_bin_7=RadialDistribution_FracAtD_PO_ER_conv_7of9,\n",
    "PO_ER_bin_8=RadialDistribution_FracAtD_PO_ER_conv_8of9,\n",
    "PO_ER_bin_9=RadialDistribution_FracAtD_PO_ER_conv_9of9,\n",
    "PO_LD_bin_1=RadialDistribution_FracAtD_PO_ER_conv_1of9,\n",
    "PO_LD_bin_2=RadialDistribution_FracAtD_PO_ER_conv_2of9,\n",
    "PO_LD_bin_3=RadialDistribution_FracAtD_PO_ER_conv_3of9,\n",
    "PO_LD_bin_4=RadialDistribution_FracAtD_PO_ER_conv_4of9,\n",
    "PO_LD_bin_5=RadialDistribution_FracAtD_PO_ER_conv_5of9,\n",
    "PO_LD_bin_6=RadialDistribution_FracAtD_PO_ER_conv_6of9,\n",
    "PO_LD_bin_7=RadialDistribution_FracAtD_PO_ER_conv_7of9,\n",
    "PO_LD_bin_8=RadialDistribution_FracAtD_PO_ER_conv_8of9,\n",
    "PO_LD_bin_9=RadialDistribution_FracAtD_PO_ER_conv_9of9,\n",
    "GL_LD_bin_1=RadialDistribution_FracAtD_PO_ER_conv_1of9,\n",
    "GL_LD_bin_2=RadialDistribution_FracAtD_PO_ER_conv_2of9,\n",
    "GL_LD_bin_3=RadialDistribution_FracAtD_PO_ER_conv_3of9,\n",
    "GL_LD_bin_4=RadialDistribution_FracAtD_PO_ER_conv_4of9,\n",
    "GL_LD_bin_5=RadialDistribution_FracAtD_PO_ER_conv_5of9,\n",
    "GL_LD_bin_6=RadialDistribution_FracAtD_PO_ER_conv_6of9,\n",
    "GL_LD_bin_7=RadialDistribution_FracAtD_PO_ER_conv_7of9,\n",
    "GL_LD_bin_8=RadialDistribution_FracAtD_PO_ER_conv_8of9,\n",
    "GL_LD_bin_9=RadialDistribution_FracAtD_PO_ER_conv_9of9)\n",
    "\n",
    "organelle_data <- cbind(meta, area_counts, ER, PO, GL, MT, LS, LD, SO) %>% subset(select = which(!duplicated(names(.)))) %>%\n",
    "  mutate(CY_SO_perc_area = (CY_pixel_area/SO_pixel_area)*100, \n",
    "         ER_SO_perc_area = (ER_pixel_area/SO_pixel_area)*100,\n",
    "         PO_SO_perc_area = (PO_pixel_area/SO_pixel_area)*100, \n",
    "         MT_SO_perc_area = (MT_pixel_area/SO_pixel_area)*100, \n",
    "         LS_SO_perc_area = (LS_pixel_area/SO_pixel_area)*100,\n",
    "         GL_SO_perc_area = (GL_pixel_area/SO_pixel_area)*100, \n",
    "         ER_CY_perc_area = (ER_pixel_area/CY_pixel_area)*100,\n",
    "         PO_CY_perc_area = (PO_pixel_area/SO_pixel_area)*100, \n",
    "         MT_CY_perc_area = (MT_pixel_area/CY_pixel_area)*100,\n",
    "         LS_CY_perc_area = (LS_pixel_area/CY_pixel_area)*100, \n",
    "         GL_CY_perc_area = (GL_pixel_area/CY_pixel_area)*100,\n",
    "         LD_CY_perc_area = (LD_pixel_area/CY_pixel_area)*100) %>%\n",
    "  select(group, ImageNumber, SO_pixel_area, SO_ecty, CY_pixel_area, NU_pixel_area, CY_SO_perc_area, \n",
    "         LS_count, LS_pixel_area, LS_CY_perc_area, LS_med_size,\tLS_mean_ecty, LS_mean_FormF, LS_mean_MajAxis, LS_mean_MinAxis, LS_mean_Compact,\n",
    "         MT_count, MT_pixel_area, MT_CY_perc_area, MT_med_size,\tMT_mean_ecty, MT_mean_FormF, MT_mean_MajAxis, MT_mean_MinAxis,\n",
    "         GL_count, GL_pixel_area, GL_CY_perc_area, GL_med_size,\tGL_mean_ecty, GL_mean_FormF, GL_mean_MajAxis, GL_mean_MinAxis,\n",
    "         PO_count, PO_pixel_area, PO_CY_perc_area, PO_med_size,\tPO_mean_ecty, PO_mean_FormF, PO_mean_MajAxis, PO_mean_MinAxis,\n",
    "         ER_pixel_area, ER_CY_perc_area, ER_mean_ecty,\n",
    "         LD_count, LD_pixel_area, LD_CY_perc_area, LD_med_size, LD_mean_ecty, LD_mean_FormF, LD_mean_MajAxis, LD_mean_MinAxis)\n",
    "\n",
    "#organelle_LD_data <- cbind(meta, area_counts, LD) %>% subset(select = which(!duplicated(names(.)))) %>%\n",
    "  #mutate(LD_CY_perc_area = (LD_pixel_area/CY_pixel_area)*100) %>%\n",
    "  #select(group, ImageNumber, LD_count, LD_pixel_area, LD_CY_perc_area, LD_med_size, LD_mean_ecty)"
   ]
  },
  {
   "cell_type": "code",
   "execution_count": null,
   "id": "plain-stand",
   "metadata": {},
   "outputs": [],
   "source": [
    "ContactsFraction_data <- cbind(meta, ER, PO, GL, MT, LS, LD, organelle_overlap, PO_neighbor, LS_neighbor, MT_neighbor, ER_neighbor, GL_neighbor) %>% subset(select = which(!duplicated(names(.)))) %>%\n",
    "  mutate(perc_ER_ovlp_PO = (pixel_area_PO_ER/ER_pixel_area)*100,\n",
    "         perc_ER_ovlp_GL = (pixel_area_GL_ER/ER_pixel_area)*100, \n",
    "         perc_ER_ovlp_MT = (pixel_area_MT_ER/ER_pixel_area)*100, \n",
    "         perc_ER_ovlp_LS = (pixel_area_LS_ER/ER_pixel_area)*100,\n",
    "         perc_PO_ovlp_ER = (pixel_area_PO_ER/PO_pixel_area)*100,\n",
    "         perc_PO_ovlp_GL = (pixel_area_GL_PO/PO_pixel_area)*100,\n",
    "         perc_PO_ovlp_MT = (pixel_area_MT_PO/PO_pixel_area)*100,\n",
    "         perc_PO_ovlp_LS = (pixel_area_LS_PO/PO_pixel_area)*100,\n",
    "         perc_GL_ovlp_ER = (pixel_area_GL_ER/GL_pixel_area)*100,\n",
    "         perc_GL_ovlp_PO = (pixel_area_GL_PO/GL_pixel_area)*100,\n",
    "         perc_GL_ovlp_MT = (pixel_area_MT_GL/GL_pixel_area)*100,\n",
    "         perc_GL_ovlp_LS = (pixel_area_LS_GL/GL_pixel_area)*100,\n",
    "         perc_MT_ovlp_ER = (pixel_area_MT_ER/MT_pixel_area)*100, \n",
    "         perc_MT_ovlp_PO = (pixel_area_MT_PO/MT_pixel_area)*100,\n",
    "         perc_MT_ovlp_GL = (pixel_area_MT_GL/MT_pixel_area)*100,\n",
    "         perc_MT_ovlp_LS = (pixel_area_LS_MT/MT_pixel_area)*100,\n",
    "         perc_LS_ovlp_ER = (pixel_area_LS_ER/LS_pixel_area)*100, \n",
    "         perc_LS_ovlp_PO = (pixel_area_LS_PO/LS_pixel_area)*100,\n",
    "         perc_LS_ovlp_GL = (pixel_area_LS_GL/LS_pixel_area)*100,\n",
    "         perc_LS_ovlp_MT = (pixel_area_LS_MT/LS_pixel_area)*100) %>% \n",
    "  select(group, ImageNumber,\n",
    "         pixel_area_LS_MT, perc_LS_ovlp_MT, perc_MT_ovlp_LS, mean_perc_LS_bdry_MT, mean_perc_LS_bdry_MT,\n",
    "         pixel_area_LS_GL, perc_LS_ovlp_GL, perc_GL_ovlp_LS, mean_perc_LS_bdry_GL, mean_perc_GL_bdry_LS,\n",
    "         pixel_area_LS_PO, perc_LS_ovlp_PO, perc_PO_ovlp_LS, mean_perc_LS_bdry_PO, mean_perc_PO_bdry_LS,\n",
    "         pixel_area_LS_ER, perc_LS_ovlp_ER, perc_ER_ovlp_LS, mean_perc_LS_bdry_ER, mean_perc_ER_bdry_LS,\n",
    "         pixel_area_MT_GL, perc_MT_ovlp_GL, perc_GL_ovlp_MT, mean_perc_MT_bdry_GL, mean_perc_GL_bdry_MT,\n",
    "         pixel_area_MT_PO, perc_MT_ovlp_PO, perc_PO_ovlp_MT, mean_perc_MT_bdry_PO, mean_perc_PO_bdry_MT,\n",
    "         pixel_area_MT_ER, perc_MT_ovlp_ER, perc_ER_ovlp_MT, mean_perc_MT_bdry_ER, mean_perc_ER_bdry_MT,\n",
    "         pixel_area_GL_PO, perc_GL_ovlp_PO, perc_PO_ovlp_GL, mean_perc_GL_bdry_PO, mean_perc_PO_bdry_GL,\n",
    "         pixel_area_GL_ER, perc_GL_ovlp_ER, perc_ER_ovlp_GL, mean_perc_GL_bdry_ER, mean_perc_ER_bdry_GL,\n",
    "         pixel_area_PO_ER, perc_PO_ovlp_ER, perc_ER_ovlp_PO, mean_perc_PO_bdry_ER, mean_perc_ER_bdry_PO)\n",
    "\n",
    "contacts_data_NormSOandCY <- cbind(meta, area_counts, ER, PO, GL, MT, LS, LD, SO, organelle_overlap,PO_neighbor, LS_neighbor, MT_neighbor, ER_neighbor, GL_neighbor) %>% subset(select = which(!duplicated(names(.)))) %>%\n",
    "  mutate(\n",
    "         LS_ER_CY_perc_area = (pixel_area_LS_ER/CY_pixel_area)*100,\n",
    "         LS_GL_CY_perc_area = (pixel_area_LS_GL/CY_pixel_area)*100,\n",
    "         LS_MT_CY_perc_area = (pixel_area_LS_MT/CY_pixel_area)*100,\n",
    "         LS_PO_CY_perc_area = (pixel_area_LS_PO/CY_pixel_area)*100,\n",
    "         MT_ER_CY_perc_area = (pixel_area_MT_ER/CY_pixel_area)*100,\n",
    "         MT_GL_CY_perc_area = (pixel_area_MT_GL/CY_pixel_area)*100,\n",
    "         MT_PO_CY_perc_area = (pixel_area_MT_PO/CY_pixel_area)*100,\n",
    "         PO_ER_CY_perc_area = (pixel_area_PO_ER/CY_pixel_area)*100,\n",
    "         LS_LD_CY_perc_area = (pixel_area_LS_LD/CY_pixel_area)*100,\n",
    "         MT_LD_CY_perc_area = (pixel_area_MT_LD/CY_pixel_area)*100,\n",
    "         PO_LD_CY_perc_area = (pixel_area_PO_LD/CY_pixel_area)*100,\n",
    "         ER_LD_CY_perc_area = (pixel_area_ER_LD/CY_pixel_area)*100) %>%\n",
    "  \n",
    "  select(group, ImageNumber, \n",
    "         LS_LD_CY_perc_area, LS_GL_CY_perc_area, LS_MT_CY_perc_area, LS_PO_CY_perc_area, LS_ER_CY_perc_area, \n",
    "         MT_LD_CY_perc_area, MT_ER_CY_perc_area, MT_GL_CY_perc_area, MT_PO_CY_perc_area,\n",
    "         PO_LD_CY_perc_area, PO_ER_CY_perc_area, ER_LD_CY_perc_area)\n",
    "\n",
    "Proximity_organelle_data <- cbind (LS_Proximity, MT_Proximity, GL_Proximity, PO_Proximity, ER_Proximity)%>% subset(select = which(!duplicated(names(.)))) %>%\n",
    "  select(ImageNumber,\n",
    "         mean_perc_LS_Prox_ER, mean_perc_LS_Prox_MT, mean_perc_LS_Prox_PO, mean_perc_LS_Prox_GL, mean_perc_LS_Prox_LD,\n",
    "         mean_perc_MT_Prox_ER, mean_perc_MT_Prox_LS, mean_perc_MT_Prox_PO, mean_perc_MT_Prox_GL, mean_perc_MT_Prox_LD,\n",
    "         mean_perc_GL_Prox_ER, mean_perc_GL_Prox_LS, mean_perc_GL_Prox_PO, mean_perc_GL_Prox_MT, mean_perc_GL_Prox_LD,\n",
    "         mean_perc_PO_Prox_ER, mean_perc_PO_Prox_LS, mean_perc_PO_Prox_GL, mean_perc_PO_Prox_MT, mean_perc_PO_Prox_LD,\n",
    "         mean_perc_ER_Prox_GL, mean_perc_ER_Prox_LS, mean_perc_ER_Prox_PO, mean_perc_ER_Prox_MT, mean_perc_ER_Prox_LD)"
   ]
  },
  {
   "cell_type": "code",
   "execution_count": null,
   "id": "speaking-adelaide",
   "metadata": {},
   "outputs": [],
   "source": [
    "library(dplyr)\n",
    "\n",
    "#zscores\n",
    "#numeric_organelle <- select_if(organelle_data, is.numeric) %>% select(-ImageNumber)\n",
    "#numeric_neighbor <- select_if(ContactsFraction_data, is.numeric) %>% select(-ImageNumber)\n",
    "#organelle_zscores <- scale(numeric_organelle) %>% cbind(meta)\n",
    "#neighbor_zscores <- scale(numeric_neighbor) %>% cbind(meta)"
   ]
  },
  {
   "cell_type": "code",
   "execution_count": null,
   "id": "occasional-opportunity",
   "metadata": {},
   "outputs": [],
   "source": [
    "#export the files\n",
    "dir.create(file.path('MCZ_05162022_cleandata'))\n",
    "write.csv(organelle_data, \"./MCZ_05162022_cleandata/organelle_data_MCZ_05162022.csv\", row.names = FALSE)\n",
    "write.csv(ContactsFraction_data, \"./MCZ_05162022_cleandata/ContactsFraction_data_MCZ_05162022.csv\", row.names = FALSE)\n",
    "#write.csv(organelle_zscores, \"./MCZ_05162022_cleandata/organelle_zscores_MCZ_05162022.csv\", row.names = FALSE)\n",
    "#write.csv(neighbor_zscores, \"./MCZ_05162022_cleandata/neighbor_zscores_MCZ_05162022.csv\", row.names = FALSE)\n",
    "write.csv(Distribution_DataRaw, \"./MCZ_05162022_cleandata/Distribution_DataRaw_MCZ_05162022.csv\", row.names = FALSE)\n",
    "write.csv(Distribution_contacts_DataRaw, \"./MCZ_05162022_cleandata/Distribution_contacts_DataRaw_MCZ_05162022.csv\", row.names = FALSE)\n",
    "write.csv(contacts_data_NormSOandCY, \"./MCZ_05162022_cleandata/contacts_data_NormSOandCY_05162022.csv\", row.names = FALSE)\n",
    "write.csv(Proximity_organelle_data, \"./MCZ_05162022_cleandata/Proximity_organelle_data_05162022.csv\", row.names = FALSE)\n",
    "\n",
    "#combine all the selected and mutated columns to one data.frame using the cbind() function. The order you select the data.frames to combine with is the order appears on the combined data.frame. Use the subset() function to exclude identical columns, in this case the ImageNumber. Give this combined data.frame a simple name.\n",
    "\n",
    "\n",
    "#Removing any NaN values that may have occurred during the mutate steps above. Fill them with 0.\n",
    "# normalizeds[is.na(normalizeds)] <- 0\n",
    "# normalized_size_shape_distribution[is.na(normalized_size_shape_distribution)] <- 0\n",
    "\n",
    "\n",
    "\n",
    "#Separating treated and untreated data into two different files\n",
    "#untreated_size_Shape_distribution <- normalized_size_shape_distribution %>% filter(Metadata_treatment=='before 50 uM Ars')\n",
    "#NaAsO_size_Shape_distribution <- normalized_size_shape_distribution %>% filter(Metadata_treatment=='after 50 uM Ars')\n",
    "\n",
    "#untreateds <- normalizeds %>% filter(Metadata_treatment=='before 50 uM Ars')\n",
    "#NaAsOs <- normalizeds %>% filter(Metadata_treatment=='after 50 uM Ars')"
   ]
  }
 ],
 "metadata": {
  "kernelspec": {
   "display_name": "R",
   "language": "R",
   "name": "ir"
  },
  "language_info": {
   "codemirror_mode": "r",
   "file_extension": ".r",
   "mimetype": "text/x-r-source",
   "name": "R",
   "pygments_lexer": "r",
   "version": "4.1.3"
  }
 },
 "nbformat": 4,
 "nbformat_minor": 5
}
