{
 "cells": [
  {
   "cell_type": "markdown",
   "id": "678c000f",
   "metadata": {},
   "source": [
    "# Notes for imaging\n",
    "\n",
    "\n",
    "\n",
    "##  Zeiss CZI file format\n",
    "\n",
    "[zeiss](https://www.zeiss.com/microscopy/us/products/microscope-software/zen/czi.html)\n",
    "\n",
    "### All Your Valuable Data in One File: Safe and Reproducible\n",
    "The CZI file format has been developed by ZEISS to specifically meet the requirements of imaging in microscopy. ZEN imaging software saves multidimensional images such as time lapse, Z-stacks, multiposition experiments and virtual slides in this format. CZI combines your imaging data with all relevant meta information into one compact file.\n",
    "\n",
    "\n",
    "\n",
    "<img src=\"https://images.zeiss.com/Microscopy/Products/software/zen/czi_file_characteristics.ts-1365073425971.png?auto=compress%2Cformat&fm=png&ixlib=java-1.1.11&w=640&s=a3b4cda2db420a6c6712ba75e4a950c8\">\n",
    "\n",
    "\n",
    "### libraries for CZI file\n",
    "https://allencellmodeling.github.io/aicspylibczi/\n",
    "https://github.com/AllenCellModeling/aicspylibczi\n",
    "\n",
    "\n",
    "https://www.zeiss.com/microscopy/us/products/microscope-software/zen/czi.html\n",
    "\n",
    "https://github.com/cgohlke/czifile\n",
    "https://pypi.org/project/czifile/\n",
    "\n"
   ]
  },
  {
   "cell_type": "code",
   "execution_count": null,
   "id": "e8d37f4f",
   "metadata": {},
   "outputs": [],
   "source": []
  }
 ],
 "metadata": {
  "kernelspec": {
   "display_name": "Python 3 (ipykernel)",
   "language": "python",
   "name": "python3"
  },
  "language_info": {
   "codemirror_mode": {
    "name": "ipython",
    "version": 3
   },
   "file_extension": ".py",
   "mimetype": "text/x-python",
   "name": "python",
   "nbconvert_exporter": "python",
   "pygments_lexer": "ipython3",
   "version": "3.10.4"
  }
 },
 "nbformat": 4,
 "nbformat_minor": 5
}
