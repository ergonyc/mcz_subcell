{
 "cells": [
  {
   "cell_type": "markdown",
   "metadata": {},
   "source": [
    "# MCZ (CohenLab) 2D workflow"
   ]
  },
  {
   "cell_type": "markdown",
   "metadata": {},
   "source": [
    "## preamble\n",
    "\n",
    "This is a \"headless\" napari attempt to re-constitute the CellProfiler workflow received from Maria Clara.\n",
    "\n",
    "That is we will use 'napari' just as a visualizer and rely on scikit learn's imaging tools for segmentation.   \n",
    "\n",
    "Would also like to test \"stealing\" some functions from the 'napari-assistant'\n"
   ]
  },
  {
   "cell_type": "code",
   "execution_count": null,
   "metadata": {},
   "outputs": [],
   "source": []
  }
 ],
 "metadata": {
  "kernelspec": {
   "display_name": "Python 3.9.13 ('napari-env')",
   "language": "python",
   "name": "python3"
  },
  "language_info": {
   "name": "python",
   "version": "3.9.13"
  },
  "orig_nbformat": 4,
  "vscode": {
   "interpreter": {
    "hash": "afb27dec0b0ca17b0c63e87d6214e9a206739fb79e3087e5ce359af8339317da"
   }
  }
 },
 "nbformat": 4,
 "nbformat_minor": 2
}
