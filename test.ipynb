{
 "cells": [
  {
   "cell_type": "code",
   "execution_count": 1,
   "id": "ac3a9b64",
   "metadata": {},
   "outputs": [
    {
     "name": "stdout",
     "output_type": "stream",
     "text": [
      "Assistant skips harvesting pyclesperanto as it's not installed.\n"
     ]
    },
    {
     "name": "stderr",
     "output_type": "stream",
     "text": [
      "/opt/anaconda3/envs/napariCPU/lib/python3.9/site-packages/napari_tools_menu/__init__.py:194: FutureWarning: Public access to Window.qt_viewer is deprecated and will be removed in\n",
      "v0.5.0. It is considered an \"implementation detail\" of the napari\n",
      "application, not part of the napari viewer model. If your use case\n",
      "requires access to qt_viewer, please open an issue to discuss.\n",
      "  self.tools_menu = ToolsMenu(self, self.qt_viewer.viewer)\n"
     ]
    }
   ],
   "source": [
    "from skimage.io import imread\n",
    "import napari_simpleitk_image_processing as nsitk\n",
    "import napari\n",
    "viewer = napari.Viewer()"
   ]
  },
  {
   "cell_type": "markdown",
   "id": "70ba9f10",
   "metadata": {},
   "source": [
    "## Loading '0 :: None :: Residuals'"
   ]
  },
  {
   "cell_type": "code",
   "execution_count": 2,
   "id": "2dc55cb9",
   "metadata": {
    "lines_to_next_cell": 2
   },
   "outputs": [
    {
     "ename": "ValueError",
     "evalue": "Could not find a format to read the specified file in ImageMode.single_image mode",
     "output_type": "error",
     "traceback": [
      "\u001b[0;31m---------------------------------------------------------------------------\u001b[0m",
      "\u001b[0;31mValueError\u001b[0m                                Traceback (most recent call last)",
      "\u001b[1;32m/Users/ahenrie/Projects/Imaging/mcz_subcell/test.ipynb Cell 3\u001b[0m in \u001b[0;36m<cell line: 1>\u001b[0;34m()\u001b[0m\n\u001b[0;32m----> <a href='vscode-notebook-cell:/Users/ahenrie/Projects/Imaging/mcz_subcell/test.ipynb#ch0000002?line=0'>1</a>\u001b[0m image0_0 \u001b[39m=\u001b[39m imread(\n\u001b[1;32m      <a href='vscode-notebook-cell:/Users/ahenrie/Projects/Imaging/mcz_subcell/test.ipynb#ch0000002?line=1'>2</a>\u001b[0m     \u001b[39m\"\u001b[39;49m\u001b[39m/Users/ahenrie/Projects/Imaging/mcz_subcell/data/ZSTACK_PBTOhNGN2hiPSCs_BR1_N21_Unmixed.czi\u001b[39;49m\u001b[39m\"\u001b[39;49m)\n\u001b[1;32m      <a href='vscode-notebook-cell:/Users/ahenrie/Projects/Imaging/mcz_subcell/test.ipynb#ch0000002?line=2'>3</a>\u001b[0m viewer\u001b[39m.\u001b[39madd_image(image0_0, name\u001b[39m=\u001b[39m\u001b[39m'\u001b[39m\u001b[39m0 :: None :: Residuals\u001b[39m\u001b[39m'\u001b[39m)\n\u001b[1;32m      <a href='vscode-notebook-cell:/Users/ahenrie/Projects/Imaging/mcz_subcell/test.ipynb#ch0000002?line=3'>4</a>\u001b[0m napari\u001b[39m.\u001b[39mutils\u001b[39m.\u001b[39mnbscreenshot(viewer)\n",
      "File \u001b[0;32m/opt/anaconda3/envs/napariCPU/lib/python3.9/site-packages/skimage/io/_io.py:53\u001b[0m, in \u001b[0;36mimread\u001b[0;34m(fname, as_gray, plugin, **plugin_args)\u001b[0m\n\u001b[1;32m     50\u001b[0m         plugin \u001b[39m=\u001b[39m \u001b[39m'\u001b[39m\u001b[39mtifffile\u001b[39m\u001b[39m'\u001b[39m\n\u001b[1;32m     52\u001b[0m \u001b[39mwith\u001b[39;00m file_or_url_context(fname) \u001b[39mas\u001b[39;00m fname:\n\u001b[0;32m---> 53\u001b[0m     img \u001b[39m=\u001b[39m call_plugin(\u001b[39m'\u001b[39;49m\u001b[39mimread\u001b[39;49m\u001b[39m'\u001b[39;49m, fname, plugin\u001b[39m=\u001b[39;49mplugin, \u001b[39m*\u001b[39;49m\u001b[39m*\u001b[39;49mplugin_args)\n\u001b[1;32m     55\u001b[0m \u001b[39mif\u001b[39;00m \u001b[39mnot\u001b[39;00m \u001b[39mhasattr\u001b[39m(img, \u001b[39m'\u001b[39m\u001b[39mndim\u001b[39m\u001b[39m'\u001b[39m):\n\u001b[1;32m     56\u001b[0m     \u001b[39mreturn\u001b[39;00m img\n",
      "File \u001b[0;32m/opt/anaconda3/envs/napariCPU/lib/python3.9/site-packages/skimage/io/manage_plugins.py:207\u001b[0m, in \u001b[0;36mcall_plugin\u001b[0;34m(kind, *args, **kwargs)\u001b[0m\n\u001b[1;32m    203\u001b[0m     \u001b[39mexcept\u001b[39;00m \u001b[39mIndexError\u001b[39;00m:\n\u001b[1;32m    204\u001b[0m         \u001b[39mraise\u001b[39;00m \u001b[39mRuntimeError\u001b[39;00m(\u001b[39m'\u001b[39m\u001b[39mCould not find the plugin \u001b[39m\u001b[39m\"\u001b[39m\u001b[39m%s\u001b[39;00m\u001b[39m\"\u001b[39m\u001b[39m for \u001b[39m\u001b[39m%s\u001b[39;00m\u001b[39m.\u001b[39m\u001b[39m'\u001b[39m \u001b[39m%\u001b[39m\n\u001b[1;32m    205\u001b[0m                            (plugin, kind))\n\u001b[0;32m--> 207\u001b[0m \u001b[39mreturn\u001b[39;00m func(\u001b[39m*\u001b[39;49margs, \u001b[39m*\u001b[39;49m\u001b[39m*\u001b[39;49mkwargs)\n",
      "File \u001b[0;32m/opt/anaconda3/envs/napariCPU/lib/python3.9/site-packages/skimage/io/_plugins/imageio_plugin.py:15\u001b[0m, in \u001b[0;36mimread\u001b[0;34m(*args, **kwargs)\u001b[0m\n\u001b[1;32m     13\u001b[0m \u001b[39m@wraps\u001b[39m(imageio_imread)\n\u001b[1;32m     14\u001b[0m \u001b[39mdef\u001b[39;00m \u001b[39mimread\u001b[39m(\u001b[39m*\u001b[39margs, \u001b[39m*\u001b[39m\u001b[39m*\u001b[39mkwargs):\n\u001b[0;32m---> 15\u001b[0m     \u001b[39mreturn\u001b[39;00m np\u001b[39m.\u001b[39masarray(imageio_imread(\u001b[39m*\u001b[39;49margs, \u001b[39m*\u001b[39;49m\u001b[39m*\u001b[39;49mkwargs))\n",
      "File \u001b[0;32m/opt/anaconda3/envs/napariCPU/lib/python3.9/site-packages/imageio/core/functions.py:158\u001b[0m, in \u001b[0;36mimread\u001b[0;34m(uri, format, **kwargs)\u001b[0m\n\u001b[1;32m    153\u001b[0m \u001b[39mif\u001b[39;00m \u001b[39m\"\u001b[39m\u001b[39mmode\u001b[39m\u001b[39m\"\u001b[39m \u001b[39min\u001b[39;00m kwargs:\n\u001b[1;32m    154\u001b[0m     \u001b[39mraise\u001b[39;00m \u001b[39mTypeError\u001b[39;00m(\n\u001b[1;32m    155\u001b[0m         \u001b[39m'\u001b[39m\u001b[39mInvalid keyword argument \u001b[39m\u001b[39m\"\u001b[39m\u001b[39mmode\u001b[39m\u001b[39m\"\u001b[39m\u001b[39m, \u001b[39m\u001b[39m'\u001b[39m \u001b[39m'\u001b[39m\u001b[39mperhaps you mean \u001b[39m\u001b[39m\"\u001b[39m\u001b[39mpilmode\u001b[39m\u001b[39m\"\u001b[39m\u001b[39m?\u001b[39m\u001b[39m'\u001b[39m\n\u001b[1;32m    156\u001b[0m     )\n\u001b[0;32m--> 158\u001b[0m \u001b[39mwith\u001b[39;00m imopen()(uri, \u001b[39m\"\u001b[39;49m\u001b[39mri\u001b[39;49m\u001b[39m\"\u001b[39;49m, \u001b[39mformat\u001b[39;49m\u001b[39m=\u001b[39;49m\u001b[39mformat\u001b[39;49m) \u001b[39mas\u001b[39;00m file:\n\u001b[1;32m    159\u001b[0m     \u001b[39mreturn\u001b[39;00m file\u001b[39m.\u001b[39mread(index\u001b[39m=\u001b[39m\u001b[39m0\u001b[39m, \u001b[39m*\u001b[39m\u001b[39m*\u001b[39mkwargs)\n",
      "File \u001b[0;32m/opt/anaconda3/envs/napariCPU/lib/python3.9/site-packages/imageio/core/imopen.py:126\u001b[0m, in \u001b[0;36mimopen.__call__\u001b[0;34m(self, uri, io_mode, plugin, search_legacy_only, **kwargs)\u001b[0m\n\u001b[1;32m    122\u001b[0m             \u001b[39mif\u001b[39;00m search_legacy_only:\n\u001b[1;32m    123\u001b[0m                 \u001b[39m# ensure backwards compatibility and do not change\u001b[39;00m\n\u001b[1;32m    124\u001b[0m                 \u001b[39m# type of error raised to IOError\u001b[39;00m\n\u001b[1;32m    125\u001b[0m                 request\u001b[39m.\u001b[39mfinish()\n\u001b[0;32m--> 126\u001b[0m                 \u001b[39mraise\u001b[39;00m e\n\u001b[1;32m    128\u001b[0m \u001b[39mif\u001b[39;00m plugin_instance \u001b[39mis\u001b[39;00m \u001b[39mNone\u001b[39;00m:\n\u001b[1;32m    129\u001b[0m     request\u001b[39m.\u001b[39mfinish()\n",
      "File \u001b[0;32m/opt/anaconda3/envs/napariCPU/lib/python3.9/site-packages/imageio/core/imopen.py:119\u001b[0m, in \u001b[0;36mimopen.__call__\u001b[0;34m(self, uri, io_mode, plugin, search_legacy_only, **kwargs)\u001b[0m\n\u001b[1;32m    116\u001b[0m kwargs[\u001b[39m\"\u001b[39m\u001b[39muri\u001b[39m\u001b[39m\"\u001b[39m] \u001b[39m=\u001b[39m uri\n\u001b[1;32m    118\u001b[0m \u001b[39mtry\u001b[39;00m:\n\u001b[0;32m--> 119\u001b[0m     plugin_instance \u001b[39m=\u001b[39m LegacyPlugin(request, \u001b[39m*\u001b[39;49m\u001b[39m*\u001b[39;49mkwargs)\n\u001b[1;32m    120\u001b[0m \u001b[39mexcept\u001b[39;00m (\u001b[39mValueError\u001b[39;00m, \u001b[39mIndexError\u001b[39;00m, \u001b[39mKeyError\u001b[39;00m) \u001b[39mas\u001b[39;00m e:\n\u001b[1;32m    121\u001b[0m     plugin_instance \u001b[39m=\u001b[39m \u001b[39mNone\u001b[39;00m\n",
      "File \u001b[0;32m/opt/anaconda3/envs/napariCPU/lib/python3.9/site-packages/imageio/core/imopen.py:224\u001b[0m, in \u001b[0;36mLegacyPlugin.__init__\u001b[0;34m(self, request, plugin_manager, uri, io_mode, format)\u001b[0m\n\u001b[1;32m    222\u001b[0m \u001b[39mif\u001b[39;00m plugin \u001b[39mis\u001b[39;00m \u001b[39mNone\u001b[39;00m:\n\u001b[1;32m    223\u001b[0m     modename \u001b[39m=\u001b[39m MODENAMES(\u001b[39mself\u001b[39m\u001b[39m.\u001b[39m_request\u001b[39m.\u001b[39mmode[\u001b[39m1\u001b[39m])\n\u001b[0;32m--> 224\u001b[0m     \u001b[39mraise\u001b[39;00m \u001b[39mValueError\u001b[39;00m(\n\u001b[1;32m    225\u001b[0m         \u001b[39m\"\u001b[39m\u001b[39mCould not find a format to read the specified file\u001b[39m\u001b[39m\"\u001b[39m\n\u001b[1;32m    226\u001b[0m         \u001b[39m\"\u001b[39m\u001b[39m in \u001b[39m\u001b[39m%s\u001b[39;00m\u001b[39m mode\u001b[39m\u001b[39m\"\u001b[39m \u001b[39m%\u001b[39m modename\n\u001b[1;32m    227\u001b[0m     )\n\u001b[1;32m    229\u001b[0m \u001b[39mself\u001b[39m\u001b[39m.\u001b[39m_plugin \u001b[39m=\u001b[39m plugin\n\u001b[1;32m    231\u001b[0m \u001b[39m# for backwards compatibility with get_reader/get_writer\u001b[39;00m\n",
      "\u001b[0;31mValueError\u001b[0m: Could not find a format to read the specified file in ImageMode.single_image mode"
     ]
    }
   ],
   "source": [
    "image0_0 = imread(\n",
    "    \"/Users/ahenrie/Projects/Imaging/mcz_subcell/data/ZSTACK_PBTOhNGN2hiPSCs_BR1_N21_Unmixed.czi\")\n",
    "viewer.add_image(image0_0, name='0 :: None :: Residuals')\n",
    "napari.utils.nbscreenshot(viewer)"
   ]
  },
  {
   "cell_type": "markdown",
   "id": "11cf809f",
   "metadata": {},
   "source": [
    "## Loading '0 :: None :: Nuclei_Jan22'"
   ]
  },
  {
   "cell_type": "code",
   "execution_count": null,
   "id": "eb49ce09",
   "metadata": {
    "lines_to_next_cell": 2
   },
   "outputs": [],
   "source": [
    "image1_0J = imread(\n",
    "    \"/Users/ahenrie/Projects/Imaging/mcz_subcell/data/ZSTACK_PBTOhNGN2hiPSCs_BR1_N21_Unmixed.czi\")\n",
    "viewer.add_image(image1_0J, name='0 :: None :: Nuclei_Jan22')\n",
    "napari.utils.nbscreenshot(viewer)"
   ]
  },
  {
   "cell_type": "markdown",
   "id": "0be775b4",
   "metadata": {},
   "source": [
    "## median filter"
   ]
  },
  {
   "cell_type": "code",
   "execution_count": null,
   "id": "0ee38a50",
   "metadata": {},
   "outputs": [],
   "source": [
    "image2_M = nsitk.median_filter(image1_0J, 1, 0, 0)\n",
    "viewer.add_image(image2_M, name='Result of Median (n-SimpleITK)')\n",
    "napari.utils.nbscreenshot(viewer)"
   ]
  },
  {
   "cell_type": "markdown",
   "id": "790e0841",
   "metadata": {},
   "source": [
    "## bilateral filter"
   ]
  },
  {
   "cell_type": "code",
   "execution_count": null,
   "id": "cbbef4d8",
   "metadata": {},
   "outputs": [],
   "source": [
    "image3_B = nsitk.bilateral_filter(image2_M, 1.0)\n",
    "viewer.add_image(image3_B, name='Result of Bilateral (n-SimpleITK) [2]')\n",
    "napari.utils.nbscreenshot(viewer)"
   ]
  },
  {
   "cell_type": "markdown",
   "id": "ec2321b2",
   "metadata": {},
   "source": [
    "## bilateral filter"
   ]
  },
  {
   "cell_type": "code",
   "execution_count": null,
   "id": "7ed40ec4",
   "metadata": {},
   "outputs": [],
   "source": [
    "image4_B = nsitk.bilateral_filter(image3_B, 1.0)\n",
    "viewer.add_image(image4_B, name='Result of Bilateral (n-SimpleITK) [3]')\n",
    "napari.utils.nbscreenshot(viewer)"
   ]
  },
  {
   "cell_type": "markdown",
   "id": "7ba17263",
   "metadata": {},
   "source": [
    "## adaptive histogram equalization"
   ]
  },
  {
   "cell_type": "code",
   "execution_count": null,
   "id": "17f0e0d9",
   "metadata": {},
   "outputs": [],
   "source": [
    "image5_A = nsitk.adaptive_histogram_equalization(\n",
    "    image1_0J, 0.99, 0.98, 0, 0, 0)\n",
    "viewer.add_image(\n",
    "    image5_A, name='Result of Adaptive histogram equalization (n-SimpleITK)')\n",
    "napari.utils.nbscreenshot(viewer)"
   ]
  },
  {
   "cell_type": "markdown",
   "id": "08c0ba37",
   "metadata": {},
   "source": [
    "## bilateral filter"
   ]
  },
  {
   "cell_type": "code",
   "execution_count": null,
   "id": "26f19288",
   "metadata": {},
   "outputs": [],
   "source": [
    "image6_B = nsitk.bilateral_filter(image0_0, 1.0)\n",
    "viewer.add_image(image6_B, name='Result of Bilateral (n-SimpleITK)')\n",
    "napari.utils.nbscreenshot(viewer)"
   ]
  },
  {
   "cell_type": "markdown",
   "id": "3d41dbd3",
   "metadata": {},
   "source": [
    "## bilateral filter"
   ]
  },
  {
   "cell_type": "code",
   "execution_count": null,
   "id": "38a98fa0",
   "metadata": {},
   "outputs": [],
   "source": [
    "image7_B = nsitk.bilateral_filter(image1_0J, 1.0)\n",
    "viewer.add_image(image7_B, name='Result of Bilateral (n-SimpleITK) [1]')\n",
    "napari.utils.nbscreenshot(viewer)"
   ]
  }
 ],
 "metadata": {
  "jupytext": {
   "cell_metadata_filter": "-all",
   "main_language": "python",
   "notebook_metadata_filter": "-all"
  },
  "kernelspec": {
   "display_name": "Python 3.9.13 ('napariCPU')",
   "language": "python",
   "name": "python3"
  },
  "language_info": {
   "codemirror_mode": {
    "name": "ipython",
    "version": 3
   },
   "file_extension": ".py",
   "mimetype": "text/x-python",
   "name": "python",
   "nbconvert_exporter": "python",
   "pygments_lexer": "ipython3",
   "version": "3.9.13"
  },
  "vscode": {
   "interpreter": {
    "hash": "f031731ab969ee57a1e374f3bd8f45aa21d75bcce393796dc315989b727a58a9"
   }
  }
 },
 "nbformat": 4,
 "nbformat_minor": 5
}
